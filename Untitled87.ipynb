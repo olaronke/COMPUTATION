{
  "cells": [
    {
      "cell_type": "markdown",
      "metadata": {
        "id": "view-in-github",
        "colab_type": "text"
      },
      "source": [
        "<a href=\"https://colab.research.google.com/github/olaronke/COMPUTATION/blob/main/Untitled87.ipynb\" target=\"_parent\"><img src=\"https://colab.research.google.com/assets/colab-badge.svg\" alt=\"Open In Colab\"/></a>"
      ]
    },
    {
      "cell_type": "code",
      "execution_count": 2,
      "metadata": {
        "id": "rXcH5YVAfFQD",
        "colab": {
          "base_uri": "https://localhost:8080/"
        },
        "outputId": "1991e3d6-7e04-45d0-fdfc-f24728f2252d"
      },
      "outputs": [
        {
          "output_type": "stream",
          "name": "stdout",
          "text": [
            "Mounted at /content/GoogleDrive\n"
          ]
        }
      ],
      "source": [
        "from google.colab import drive\n",
        "import os\n",
        "\n",
        "drive.mount('/content/GoogleDrive', force_remount=True)"
      ]
    },
    {
      "cell_type": "code",
      "execution_count": 3,
      "metadata": {
        "colab": {
          "base_uri": "https://localhost:8080/"
        },
        "id": "AB-hWcwFGtCV",
        "outputId": "9ff3d63e-1930-4c5c-b04e-b6fa9651759e"
      },
      "outputs": [
        {
          "output_type": "stream",
          "name": "stdout",
          "text": [
            "Looking in indexes: https://pypi.org/simple, https://us-python.pkg.dev/colab-wheels/public/simple/\n",
            "Collecting keras.utils\n",
            "  Downloading keras-utils-1.0.13.tar.gz (2.4 kB)\n",
            "  Preparing metadata (setup.py) ... \u001b[?25l\u001b[?25hdone\n",
            "Requirement already satisfied: Keras>=2.1.5 in /usr/local/lib/python3.8/dist-packages (from keras.utils) (2.9.0)\n",
            "Building wheels for collected packages: keras.utils\n",
            "  Building wheel for keras.utils (setup.py) ... \u001b[?25l\u001b[?25hdone\n",
            "  Created wheel for keras.utils: filename=keras_utils-1.0.13-py3-none-any.whl size=2656 sha256=9a760394d757c092785167710bacbdf060c6cb8e10726f7b0a084f5d1731090a\n",
            "  Stored in directory: /root/.cache/pip/wheels/2f/e9/19/d3d310a06735013bf467216222ebb92b1158c5d3ae006bf92a\n",
            "Successfully built keras.utils\n",
            "Installing collected packages: keras.utils\n",
            "Successfully installed keras.utils-1.0.13\n"
          ]
        }
      ],
      "source": [
        " !pip install keras.utils \n"
      ]
    },
    {
      "cell_type": "code",
      "execution_count": 4,
      "metadata": {
        "id": "acKscqBdHI9K"
      },
      "outputs": [],
      "source": [
        "from tensorflow.keras.preprocessing.sequence import pad_sequences\n"
      ]
    },
    {
      "cell_type": "code",
      "execution_count": 5,
      "metadata": {
        "id": "b6Uy-0frGnQO"
      },
      "outputs": [],
      "source": [
        "import os\n",
        "import numpy as np\n",
        "from sklearn.model_selection import train_test_split\n",
        "\n",
        "\n",
        "from keras.models import Model\n",
        "from keras.layers import Input, Embedding, SpatialDropout1D, Dropout, Conv1D, MaxPool1D, Flatten, concatenate, Dense, \\\n",
        "    LSTM, Bidirectional, Activation, MaxPooling1D, Add, GRU, GlobalAveragePooling1D, GlobalMaxPooling1D, RepeatVector, \\\n",
        "    TimeDistributed, Permute, multiply, Lambda, add, Masking, BatchNormalization, Softmax, Reshape, ReLU, \\\n",
        "    ZeroPadding1D, subtract\n",
        "from tensorflow.keras.preprocessing.sequence import pad_sequences\n",
        "from tensorflow.keras.utils import to_categorical\n",
        "from tensorflow.keras.callbacks import Callback, ModelCheckpoint, EarlyStopping\n",
        "import tensorflow.keras.backend as K\n",
        "import tensorflow as tf\n",
        "from keras import backend as K, initializers, regularizers, constraints\n",
        "\n",
        "\n",
        "# Import our dependencies\n",
        "import tensorflow as tf\n",
        "import pandas as pd\n",
        "import tensorflow_hub as hub\n",
        "import os\n",
        "import re\n",
        "from keras import backend as K\n",
        "import keras.layers as layers\n",
        "from keras.models import Model, load_model\n",
        "from tensorflow.keras.layers import Layer, InputSpec\n",
        "import numpy as np\n",
        "\n",
        "from statistics import mode\n",
        "\n",
        "import numpy as np # linear algebra\n",
        "import pandas as pd # data processing, CSV file I/O (e.g. pd.read_csv)\n",
        "import matplotlib\n",
        "import matplotlib.pyplot as plt\n",
        "import nltk \n",
        "import seaborn as sns\n",
        "from nltk.tokenize import word_tokenize\n",
        "from nltk.corpus import stopwords\n",
        "%matplotlib inline\n",
        "import tensorflow as tf\n",
        "\n",
        "# Load Huggingface transformers\n",
        "#from transformers import TFBertModel,  BertConfig, BertTokenizerFast, TFAutoModel\n",
        "\n",
        "# Then what you need from tensorflow.keras\n",
        "from tensorflow.keras.layers import Input, Dropout, Dense, GlobalAveragePooling1D\n",
        "from tensorflow.keras.callbacks import ReduceLROnPlateau\n",
        "from tensorflow.keras.models import Model\n",
        "from tensorflow.keras.optimizers import Adam\n",
        "from tensorflow.keras.callbacks import EarlyStopping\n",
        "from tensorflow.keras.initializers import TruncatedNormal\n",
        "from tensorflow.keras.losses import CategoricalCrossentropy\n",
        "from tensorflow.keras.metrics import CategoricalAccuracy\n",
        "from tensorflow.keras.utils import to_categorical\n",
        "from sklearn.model_selection import train_test_split\n",
        "\n",
        "from tensorflow.python.keras import backend as K\n",
        "from tensorflow.python.keras.metrics import Metric\n",
        "from tensorflow.python.keras.utils import metrics_utils\n",
        "from tensorflow.python.ops import init_ops\n",
        "from tensorflow.python.ops import math_ops\n",
        "from tensorflow.python.keras.utils.generic_utils import to_list\n",
        "import tensorflow_hub as hub\n",
        "\n",
        "\n",
        "\n",
        "import re\n",
        "import nltk\n",
        "from nltk.corpus import stopwords\n",
        "\n",
        "# neural\n",
        "from keras.preprocessing.text import Tokenizer\n",
        "#from keras.preprocessing.sequence import pad_sequences\n",
        "from keras.layers import Dense, LSTM, Embedding, Dropout\n",
        "from keras.layers import Bidirectional, GlobalMaxPool1D\n",
        "from keras.models import Model, Sequential\n",
        "\n",
        "#Metrics \n",
        "from sklearn.metrics import balanced_accuracy_score\n",
        "\n",
        "from sklearn.feature_extraction.text import TfidfVectorizer\n",
        "from mlxtend.plotting import plot_confusion_matrix\n",
        "from sklearn.tree import DecisionTreeClassifier\n",
        "from sklearn.metrics import classification_report,confusion_matrix,accuracy_score\n",
        "from sklearn.linear_model import LogisticRegression,SGDClassifier\n",
        "from sklearn.naive_bayes import MultinomialNB\n",
        "from sklearn.ensemble import RandomForestClassifier,GradientBoostingClassifier,AdaBoostClassifier,ExtraTreesClassifier\n"
      ]
    },
    {
      "cell_type": "code",
      "execution_count": 6,
      "metadata": {
        "id": "uIZt-Wr4G3yC"
      },
      "outputs": [],
      "source": [
        "restaurant_df = pd.read_csv(\"/content/GoogleDrive/MyDrive/Restaurants_Train_v2.csv\", encoding='utf8')\n"
      ]
    },
    {
      "cell_type": "code",
      "execution_count": 7,
      "metadata": {
        "id": "NYNStoFFHg4J"
      },
      "outputs": [],
      "source": [
        "laptop_df = pd.read_csv(\"/content/GoogleDrive/MyDrive/Laptop_Train_v2.csv\", encoding='utf8')\n"
      ]
    },
    {
      "cell_type": "code",
      "execution_count": 8,
      "metadata": {
        "colab": {
          "base_uri": "https://localhost:8080/",
          "height": 424
        },
        "id": "duHSHwclIEp_",
        "outputId": "5833f6a9-dde4-4c8d-d155-e0696ff7ce30"
      },
      "outputs": [
        {
          "output_type": "execute_result",
          "data": {
            "text/plain": [
              "        id                                           Sentence  \\\n",
              "0     3121               But the staff was so horrible to us.   \n",
              "1     2777  To be completely fair, the only redeeming fact...   \n",
              "2     1634  The food is uniformly exceptional, with a very...   \n",
              "3     1634  The food is uniformly exceptional, with a very...   \n",
              "4     1634  The food is uniformly exceptional, with a very...   \n",
              "...    ...                                                ...   \n",
              "3688   671  Each table has a pot of boiling water sunken i...   \n",
              "3689   671  Each table has a pot of boiling water sunken i...   \n",
              "3690   671  Each table has a pot of boiling water sunken i...   \n",
              "3691   671  Each table has a pot of boiling water sunken i...   \n",
              "3692   671  Each table has a pot of boiling water sunken i...   \n",
              "\n",
              "               Aspect Term  polarity  from   to  \n",
              "0                    staff  negative     8   13  \n",
              "1                     food  positive    57   61  \n",
              "2                     food  positive     4    8  \n",
              "3                  kitchen  positive    55   62  \n",
              "4                     menu   neutral   141  145  \n",
              "...                    ...       ...   ...  ...  \n",
              "3688  pot of boiling water   neutral    17   37  \n",
              "3689                 meats   neutral    99  104  \n",
              "3690            vegetables   neutral   114  124  \n",
              "3691                  rice   neutral   130  134  \n",
              "3692         glass noodles   neutral   139  152  \n",
              "\n",
              "[3693 rows x 6 columns]"
            ],
            "text/html": [
              "\n",
              "  <div id=\"df-6f073d39-6b93-49eb-b33f-10d9e0369142\">\n",
              "    <div class=\"colab-df-container\">\n",
              "      <div>\n",
              "<style scoped>\n",
              "    .dataframe tbody tr th:only-of-type {\n",
              "        vertical-align: middle;\n",
              "    }\n",
              "\n",
              "    .dataframe tbody tr th {\n",
              "        vertical-align: top;\n",
              "    }\n",
              "\n",
              "    .dataframe thead th {\n",
              "        text-align: right;\n",
              "    }\n",
              "</style>\n",
              "<table border=\"1\" class=\"dataframe\">\n",
              "  <thead>\n",
              "    <tr style=\"text-align: right;\">\n",
              "      <th></th>\n",
              "      <th>id</th>\n",
              "      <th>Sentence</th>\n",
              "      <th>Aspect Term</th>\n",
              "      <th>polarity</th>\n",
              "      <th>from</th>\n",
              "      <th>to</th>\n",
              "    </tr>\n",
              "  </thead>\n",
              "  <tbody>\n",
              "    <tr>\n",
              "      <th>0</th>\n",
              "      <td>3121</td>\n",
              "      <td>But the staff was so horrible to us.</td>\n",
              "      <td>staff</td>\n",
              "      <td>negative</td>\n",
              "      <td>8</td>\n",
              "      <td>13</td>\n",
              "    </tr>\n",
              "    <tr>\n",
              "      <th>1</th>\n",
              "      <td>2777</td>\n",
              "      <td>To be completely fair, the only redeeming fact...</td>\n",
              "      <td>food</td>\n",
              "      <td>positive</td>\n",
              "      <td>57</td>\n",
              "      <td>61</td>\n",
              "    </tr>\n",
              "    <tr>\n",
              "      <th>2</th>\n",
              "      <td>1634</td>\n",
              "      <td>The food is uniformly exceptional, with a very...</td>\n",
              "      <td>food</td>\n",
              "      <td>positive</td>\n",
              "      <td>4</td>\n",
              "      <td>8</td>\n",
              "    </tr>\n",
              "    <tr>\n",
              "      <th>3</th>\n",
              "      <td>1634</td>\n",
              "      <td>The food is uniformly exceptional, with a very...</td>\n",
              "      <td>kitchen</td>\n",
              "      <td>positive</td>\n",
              "      <td>55</td>\n",
              "      <td>62</td>\n",
              "    </tr>\n",
              "    <tr>\n",
              "      <th>4</th>\n",
              "      <td>1634</td>\n",
              "      <td>The food is uniformly exceptional, with a very...</td>\n",
              "      <td>menu</td>\n",
              "      <td>neutral</td>\n",
              "      <td>141</td>\n",
              "      <td>145</td>\n",
              "    </tr>\n",
              "    <tr>\n",
              "      <th>...</th>\n",
              "      <td>...</td>\n",
              "      <td>...</td>\n",
              "      <td>...</td>\n",
              "      <td>...</td>\n",
              "      <td>...</td>\n",
              "      <td>...</td>\n",
              "    </tr>\n",
              "    <tr>\n",
              "      <th>3688</th>\n",
              "      <td>671</td>\n",
              "      <td>Each table has a pot of boiling water sunken i...</td>\n",
              "      <td>pot of boiling water</td>\n",
              "      <td>neutral</td>\n",
              "      <td>17</td>\n",
              "      <td>37</td>\n",
              "    </tr>\n",
              "    <tr>\n",
              "      <th>3689</th>\n",
              "      <td>671</td>\n",
              "      <td>Each table has a pot of boiling water sunken i...</td>\n",
              "      <td>meats</td>\n",
              "      <td>neutral</td>\n",
              "      <td>99</td>\n",
              "      <td>104</td>\n",
              "    </tr>\n",
              "    <tr>\n",
              "      <th>3690</th>\n",
              "      <td>671</td>\n",
              "      <td>Each table has a pot of boiling water sunken i...</td>\n",
              "      <td>vegetables</td>\n",
              "      <td>neutral</td>\n",
              "      <td>114</td>\n",
              "      <td>124</td>\n",
              "    </tr>\n",
              "    <tr>\n",
              "      <th>3691</th>\n",
              "      <td>671</td>\n",
              "      <td>Each table has a pot of boiling water sunken i...</td>\n",
              "      <td>rice</td>\n",
              "      <td>neutral</td>\n",
              "      <td>130</td>\n",
              "      <td>134</td>\n",
              "    </tr>\n",
              "    <tr>\n",
              "      <th>3692</th>\n",
              "      <td>671</td>\n",
              "      <td>Each table has a pot of boiling water sunken i...</td>\n",
              "      <td>glass noodles</td>\n",
              "      <td>neutral</td>\n",
              "      <td>139</td>\n",
              "      <td>152</td>\n",
              "    </tr>\n",
              "  </tbody>\n",
              "</table>\n",
              "<p>3693 rows × 6 columns</p>\n",
              "</div>\n",
              "      <button class=\"colab-df-convert\" onclick=\"convertToInteractive('df-6f073d39-6b93-49eb-b33f-10d9e0369142')\"\n",
              "              title=\"Convert this dataframe to an interactive table.\"\n",
              "              style=\"display:none;\">\n",
              "        \n",
              "  <svg xmlns=\"http://www.w3.org/2000/svg\" height=\"24px\"viewBox=\"0 0 24 24\"\n",
              "       width=\"24px\">\n",
              "    <path d=\"M0 0h24v24H0V0z\" fill=\"none\"/>\n",
              "    <path d=\"M18.56 5.44l.94 2.06.94-2.06 2.06-.94-2.06-.94-.94-2.06-.94 2.06-2.06.94zm-11 1L8.5 8.5l.94-2.06 2.06-.94-2.06-.94L8.5 2.5l-.94 2.06-2.06.94zm10 10l.94 2.06.94-2.06 2.06-.94-2.06-.94-.94-2.06-.94 2.06-2.06.94z\"/><path d=\"M17.41 7.96l-1.37-1.37c-.4-.4-.92-.59-1.43-.59-.52 0-1.04.2-1.43.59L10.3 9.45l-7.72 7.72c-.78.78-.78 2.05 0 2.83L4 21.41c.39.39.9.59 1.41.59.51 0 1.02-.2 1.41-.59l7.78-7.78 2.81-2.81c.8-.78.8-2.07 0-2.86zM5.41 20L4 18.59l7.72-7.72 1.47 1.35L5.41 20z\"/>\n",
              "  </svg>\n",
              "      </button>\n",
              "      \n",
              "  <style>\n",
              "    .colab-df-container {\n",
              "      display:flex;\n",
              "      flex-wrap:wrap;\n",
              "      gap: 12px;\n",
              "    }\n",
              "\n",
              "    .colab-df-convert {\n",
              "      background-color: #E8F0FE;\n",
              "      border: none;\n",
              "      border-radius: 50%;\n",
              "      cursor: pointer;\n",
              "      display: none;\n",
              "      fill: #1967D2;\n",
              "      height: 32px;\n",
              "      padding: 0 0 0 0;\n",
              "      width: 32px;\n",
              "    }\n",
              "\n",
              "    .colab-df-convert:hover {\n",
              "      background-color: #E2EBFA;\n",
              "      box-shadow: 0px 1px 2px rgba(60, 64, 67, 0.3), 0px 1px 3px 1px rgba(60, 64, 67, 0.15);\n",
              "      fill: #174EA6;\n",
              "    }\n",
              "\n",
              "    [theme=dark] .colab-df-convert {\n",
              "      background-color: #3B4455;\n",
              "      fill: #D2E3FC;\n",
              "    }\n",
              "\n",
              "    [theme=dark] .colab-df-convert:hover {\n",
              "      background-color: #434B5C;\n",
              "      box-shadow: 0px 1px 3px 1px rgba(0, 0, 0, 0.15);\n",
              "      filter: drop-shadow(0px 1px 2px rgba(0, 0, 0, 0.3));\n",
              "      fill: #FFFFFF;\n",
              "    }\n",
              "  </style>\n",
              "\n",
              "      <script>\n",
              "        const buttonEl =\n",
              "          document.querySelector('#df-6f073d39-6b93-49eb-b33f-10d9e0369142 button.colab-df-convert');\n",
              "        buttonEl.style.display =\n",
              "          google.colab.kernel.accessAllowed ? 'block' : 'none';\n",
              "\n",
              "        async function convertToInteractive(key) {\n",
              "          const element = document.querySelector('#df-6f073d39-6b93-49eb-b33f-10d9e0369142');\n",
              "          const dataTable =\n",
              "            await google.colab.kernel.invokeFunction('convertToInteractive',\n",
              "                                                     [key], {});\n",
              "          if (!dataTable) return;\n",
              "\n",
              "          const docLinkHtml = 'Like what you see? Visit the ' +\n",
              "            '<a target=\"_blank\" href=https://colab.research.google.com/notebooks/data_table.ipynb>data table notebook</a>'\n",
              "            + ' to learn more about interactive tables.';\n",
              "          element.innerHTML = '';\n",
              "          dataTable['output_type'] = 'display_data';\n",
              "          await google.colab.output.renderOutput(dataTable, element);\n",
              "          const docLink = document.createElement('div');\n",
              "          docLink.innerHTML = docLinkHtml;\n",
              "          element.appendChild(docLink);\n",
              "        }\n",
              "      </script>\n",
              "    </div>\n",
              "  </div>\n",
              "  "
            ]
          },
          "metadata": {},
          "execution_count": 8
        }
      ],
      "source": [
        "restaurant_df\n"
      ]
    },
    {
      "cell_type": "code",
      "execution_count": 9,
      "metadata": {
        "colab": {
          "base_uri": "https://localhost:8080/",
          "height": 206
        },
        "id": "FVyEDiDzINEV",
        "outputId": "692162d6-7c7b-4c9b-be29-de9337ea593f"
      },
      "outputs": [
        {
          "output_type": "execute_result",
          "data": {
            "text/plain": [
              "     id                                           Sentence     Aspect Term  \\\n",
              "0  2339  I charge it at night and skip taking the cord ...            cord   \n",
              "1  2339  I charge it at night and skip taking the cord ...    battery life   \n",
              "2  1316  The tech guy then said the service center does...  service center   \n",
              "3  1316  The tech guy then said the service center does...    \"sales\" team   \n",
              "4  1316  The tech guy then said the service center does...        tech guy   \n",
              "\n",
              "   polarity  from   to  \n",
              "0   neutral    41   45  \n",
              "1  positive    74   86  \n",
              "2  negative    27   41  \n",
              "3  negative   109  121  \n",
              "4   neutral     4   12  "
            ],
            "text/html": [
              "\n",
              "  <div id=\"df-e8668c7e-f3d3-4996-88d9-f63101166da2\">\n",
              "    <div class=\"colab-df-container\">\n",
              "      <div>\n",
              "<style scoped>\n",
              "    .dataframe tbody tr th:only-of-type {\n",
              "        vertical-align: middle;\n",
              "    }\n",
              "\n",
              "    .dataframe tbody tr th {\n",
              "        vertical-align: top;\n",
              "    }\n",
              "\n",
              "    .dataframe thead th {\n",
              "        text-align: right;\n",
              "    }\n",
              "</style>\n",
              "<table border=\"1\" class=\"dataframe\">\n",
              "  <thead>\n",
              "    <tr style=\"text-align: right;\">\n",
              "      <th></th>\n",
              "      <th>id</th>\n",
              "      <th>Sentence</th>\n",
              "      <th>Aspect Term</th>\n",
              "      <th>polarity</th>\n",
              "      <th>from</th>\n",
              "      <th>to</th>\n",
              "    </tr>\n",
              "  </thead>\n",
              "  <tbody>\n",
              "    <tr>\n",
              "      <th>0</th>\n",
              "      <td>2339</td>\n",
              "      <td>I charge it at night and skip taking the cord ...</td>\n",
              "      <td>cord</td>\n",
              "      <td>neutral</td>\n",
              "      <td>41</td>\n",
              "      <td>45</td>\n",
              "    </tr>\n",
              "    <tr>\n",
              "      <th>1</th>\n",
              "      <td>2339</td>\n",
              "      <td>I charge it at night and skip taking the cord ...</td>\n",
              "      <td>battery life</td>\n",
              "      <td>positive</td>\n",
              "      <td>74</td>\n",
              "      <td>86</td>\n",
              "    </tr>\n",
              "    <tr>\n",
              "      <th>2</th>\n",
              "      <td>1316</td>\n",
              "      <td>The tech guy then said the service center does...</td>\n",
              "      <td>service center</td>\n",
              "      <td>negative</td>\n",
              "      <td>27</td>\n",
              "      <td>41</td>\n",
              "    </tr>\n",
              "    <tr>\n",
              "      <th>3</th>\n",
              "      <td>1316</td>\n",
              "      <td>The tech guy then said the service center does...</td>\n",
              "      <td>\"sales\" team</td>\n",
              "      <td>negative</td>\n",
              "      <td>109</td>\n",
              "      <td>121</td>\n",
              "    </tr>\n",
              "    <tr>\n",
              "      <th>4</th>\n",
              "      <td>1316</td>\n",
              "      <td>The tech guy then said the service center does...</td>\n",
              "      <td>tech guy</td>\n",
              "      <td>neutral</td>\n",
              "      <td>4</td>\n",
              "      <td>12</td>\n",
              "    </tr>\n",
              "  </tbody>\n",
              "</table>\n",
              "</div>\n",
              "      <button class=\"colab-df-convert\" onclick=\"convertToInteractive('df-e8668c7e-f3d3-4996-88d9-f63101166da2')\"\n",
              "              title=\"Convert this dataframe to an interactive table.\"\n",
              "              style=\"display:none;\">\n",
              "        \n",
              "  <svg xmlns=\"http://www.w3.org/2000/svg\" height=\"24px\"viewBox=\"0 0 24 24\"\n",
              "       width=\"24px\">\n",
              "    <path d=\"M0 0h24v24H0V0z\" fill=\"none\"/>\n",
              "    <path d=\"M18.56 5.44l.94 2.06.94-2.06 2.06-.94-2.06-.94-.94-2.06-.94 2.06-2.06.94zm-11 1L8.5 8.5l.94-2.06 2.06-.94-2.06-.94L8.5 2.5l-.94 2.06-2.06.94zm10 10l.94 2.06.94-2.06 2.06-.94-2.06-.94-.94-2.06-.94 2.06-2.06.94z\"/><path d=\"M17.41 7.96l-1.37-1.37c-.4-.4-.92-.59-1.43-.59-.52 0-1.04.2-1.43.59L10.3 9.45l-7.72 7.72c-.78.78-.78 2.05 0 2.83L4 21.41c.39.39.9.59 1.41.59.51 0 1.02-.2 1.41-.59l7.78-7.78 2.81-2.81c.8-.78.8-2.07 0-2.86zM5.41 20L4 18.59l7.72-7.72 1.47 1.35L5.41 20z\"/>\n",
              "  </svg>\n",
              "      </button>\n",
              "      \n",
              "  <style>\n",
              "    .colab-df-container {\n",
              "      display:flex;\n",
              "      flex-wrap:wrap;\n",
              "      gap: 12px;\n",
              "    }\n",
              "\n",
              "    .colab-df-convert {\n",
              "      background-color: #E8F0FE;\n",
              "      border: none;\n",
              "      border-radius: 50%;\n",
              "      cursor: pointer;\n",
              "      display: none;\n",
              "      fill: #1967D2;\n",
              "      height: 32px;\n",
              "      padding: 0 0 0 0;\n",
              "      width: 32px;\n",
              "    }\n",
              "\n",
              "    .colab-df-convert:hover {\n",
              "      background-color: #E2EBFA;\n",
              "      box-shadow: 0px 1px 2px rgba(60, 64, 67, 0.3), 0px 1px 3px 1px rgba(60, 64, 67, 0.15);\n",
              "      fill: #174EA6;\n",
              "    }\n",
              "\n",
              "    [theme=dark] .colab-df-convert {\n",
              "      background-color: #3B4455;\n",
              "      fill: #D2E3FC;\n",
              "    }\n",
              "\n",
              "    [theme=dark] .colab-df-convert:hover {\n",
              "      background-color: #434B5C;\n",
              "      box-shadow: 0px 1px 3px 1px rgba(0, 0, 0, 0.15);\n",
              "      filter: drop-shadow(0px 1px 2px rgba(0, 0, 0, 0.3));\n",
              "      fill: #FFFFFF;\n",
              "    }\n",
              "  </style>\n",
              "\n",
              "      <script>\n",
              "        const buttonEl =\n",
              "          document.querySelector('#df-e8668c7e-f3d3-4996-88d9-f63101166da2 button.colab-df-convert');\n",
              "        buttonEl.style.display =\n",
              "          google.colab.kernel.accessAllowed ? 'block' : 'none';\n",
              "\n",
              "        async function convertToInteractive(key) {\n",
              "          const element = document.querySelector('#df-e8668c7e-f3d3-4996-88d9-f63101166da2');\n",
              "          const dataTable =\n",
              "            await google.colab.kernel.invokeFunction('convertToInteractive',\n",
              "                                                     [key], {});\n",
              "          if (!dataTable) return;\n",
              "\n",
              "          const docLinkHtml = 'Like what you see? Visit the ' +\n",
              "            '<a target=\"_blank\" href=https://colab.research.google.com/notebooks/data_table.ipynb>data table notebook</a>'\n",
              "            + ' to learn more about interactive tables.';\n",
              "          element.innerHTML = '';\n",
              "          dataTable['output_type'] = 'display_data';\n",
              "          await google.colab.output.renderOutput(dataTable, element);\n",
              "          const docLink = document.createElement('div');\n",
              "          docLink.innerHTML = docLinkHtml;\n",
              "          element.appendChild(docLink);\n",
              "        }\n",
              "      </script>\n",
              "    </div>\n",
              "  </div>\n",
              "  "
            ]
          },
          "metadata": {},
          "execution_count": 9
        }
      ],
      "source": [
        "laptop_df.head()\n"
      ]
    },
    {
      "cell_type": "code",
      "execution_count": 10,
      "metadata": {
        "id": "xeIe9AobIZyo"
      },
      "outputs": [],
      "source": [
        "df = restaurant_df.append(laptop_df, ignore_index=True)\n",
        "#df = restaurant_df\n",
        "#df = laptop_df\n"
      ]
    },
    {
      "cell_type": "code",
      "execution_count": 11,
      "metadata": {
        "colab": {
          "base_uri": "https://localhost:8080/",
          "height": 424
        },
        "id": "baEmEg6mIrk-",
        "outputId": "51facda4-4dbf-4b66-9c81-70997f155db3"
      },
      "outputs": [
        {
          "output_type": "execute_result",
          "data": {
            "text/plain": [
              "        id                                           Sentence  \\\n",
              "0     3121               But the staff was so horrible to us.   \n",
              "1     2777  To be completely fair, the only redeeming fact...   \n",
              "2     1634  The food is uniformly exceptional, with a very...   \n",
              "3     1634  The food is uniformly exceptional, with a very...   \n",
              "4     1634  The food is uniformly exceptional, with a very...   \n",
              "...    ...                                                ...   \n",
              "6046  2272  We also use Paralles so we can run virtual mac...   \n",
              "6047  2272  We also use Paralles so we can run virtual mac...   \n",
              "6048   848  How Toshiba handles the repair seems to vary, ...   \n",
              "6049   848  How Toshiba handles the repair seems to vary, ...   \n",
              "6050   734  I would like to use a different operating syst...   \n",
              "\n",
              "                         Aspect Term  polarity  from   to  \n",
              "0                              staff  negative     8   13  \n",
              "1                               food  positive    57   61  \n",
              "2                               food  positive     4    8  \n",
              "3                            kitchen  positive    55   62  \n",
              "4                               menu   neutral   141  145  \n",
              "...                              ...       ...   ...  ...  \n",
              "6046  Windows Server Enterprise 2003   neutral   104  134  \n",
              "6047  Windows Server 2008 Enterprise   neutral   140  170  \n",
              "6048                          repair  conflict    24   30  \n",
              "6049                          repair  positive   130  136  \n",
              "6050                operating system   neutral    32   48  \n",
              "\n",
              "[6051 rows x 6 columns]"
            ],
            "text/html": [
              "\n",
              "  <div id=\"df-4c1760f9-8633-4ea4-98ba-9fbfae27959a\">\n",
              "    <div class=\"colab-df-container\">\n",
              "      <div>\n",
              "<style scoped>\n",
              "    .dataframe tbody tr th:only-of-type {\n",
              "        vertical-align: middle;\n",
              "    }\n",
              "\n",
              "    .dataframe tbody tr th {\n",
              "        vertical-align: top;\n",
              "    }\n",
              "\n",
              "    .dataframe thead th {\n",
              "        text-align: right;\n",
              "    }\n",
              "</style>\n",
              "<table border=\"1\" class=\"dataframe\">\n",
              "  <thead>\n",
              "    <tr style=\"text-align: right;\">\n",
              "      <th></th>\n",
              "      <th>id</th>\n",
              "      <th>Sentence</th>\n",
              "      <th>Aspect Term</th>\n",
              "      <th>polarity</th>\n",
              "      <th>from</th>\n",
              "      <th>to</th>\n",
              "    </tr>\n",
              "  </thead>\n",
              "  <tbody>\n",
              "    <tr>\n",
              "      <th>0</th>\n",
              "      <td>3121</td>\n",
              "      <td>But the staff was so horrible to us.</td>\n",
              "      <td>staff</td>\n",
              "      <td>negative</td>\n",
              "      <td>8</td>\n",
              "      <td>13</td>\n",
              "    </tr>\n",
              "    <tr>\n",
              "      <th>1</th>\n",
              "      <td>2777</td>\n",
              "      <td>To be completely fair, the only redeeming fact...</td>\n",
              "      <td>food</td>\n",
              "      <td>positive</td>\n",
              "      <td>57</td>\n",
              "      <td>61</td>\n",
              "    </tr>\n",
              "    <tr>\n",
              "      <th>2</th>\n",
              "      <td>1634</td>\n",
              "      <td>The food is uniformly exceptional, with a very...</td>\n",
              "      <td>food</td>\n",
              "      <td>positive</td>\n",
              "      <td>4</td>\n",
              "      <td>8</td>\n",
              "    </tr>\n",
              "    <tr>\n",
              "      <th>3</th>\n",
              "      <td>1634</td>\n",
              "      <td>The food is uniformly exceptional, with a very...</td>\n",
              "      <td>kitchen</td>\n",
              "      <td>positive</td>\n",
              "      <td>55</td>\n",
              "      <td>62</td>\n",
              "    </tr>\n",
              "    <tr>\n",
              "      <th>4</th>\n",
              "      <td>1634</td>\n",
              "      <td>The food is uniformly exceptional, with a very...</td>\n",
              "      <td>menu</td>\n",
              "      <td>neutral</td>\n",
              "      <td>141</td>\n",
              "      <td>145</td>\n",
              "    </tr>\n",
              "    <tr>\n",
              "      <th>...</th>\n",
              "      <td>...</td>\n",
              "      <td>...</td>\n",
              "      <td>...</td>\n",
              "      <td>...</td>\n",
              "      <td>...</td>\n",
              "      <td>...</td>\n",
              "    </tr>\n",
              "    <tr>\n",
              "      <th>6046</th>\n",
              "      <td>2272</td>\n",
              "      <td>We also use Paralles so we can run virtual mac...</td>\n",
              "      <td>Windows Server Enterprise 2003</td>\n",
              "      <td>neutral</td>\n",
              "      <td>104</td>\n",
              "      <td>134</td>\n",
              "    </tr>\n",
              "    <tr>\n",
              "      <th>6047</th>\n",
              "      <td>2272</td>\n",
              "      <td>We also use Paralles so we can run virtual mac...</td>\n",
              "      <td>Windows Server 2008 Enterprise</td>\n",
              "      <td>neutral</td>\n",
              "      <td>140</td>\n",
              "      <td>170</td>\n",
              "    </tr>\n",
              "    <tr>\n",
              "      <th>6048</th>\n",
              "      <td>848</td>\n",
              "      <td>How Toshiba handles the repair seems to vary, ...</td>\n",
              "      <td>repair</td>\n",
              "      <td>conflict</td>\n",
              "      <td>24</td>\n",
              "      <td>30</td>\n",
              "    </tr>\n",
              "    <tr>\n",
              "      <th>6049</th>\n",
              "      <td>848</td>\n",
              "      <td>How Toshiba handles the repair seems to vary, ...</td>\n",
              "      <td>repair</td>\n",
              "      <td>positive</td>\n",
              "      <td>130</td>\n",
              "      <td>136</td>\n",
              "    </tr>\n",
              "    <tr>\n",
              "      <th>6050</th>\n",
              "      <td>734</td>\n",
              "      <td>I would like to use a different operating syst...</td>\n",
              "      <td>operating system</td>\n",
              "      <td>neutral</td>\n",
              "      <td>32</td>\n",
              "      <td>48</td>\n",
              "    </tr>\n",
              "  </tbody>\n",
              "</table>\n",
              "<p>6051 rows × 6 columns</p>\n",
              "</div>\n",
              "      <button class=\"colab-df-convert\" onclick=\"convertToInteractive('df-4c1760f9-8633-4ea4-98ba-9fbfae27959a')\"\n",
              "              title=\"Convert this dataframe to an interactive table.\"\n",
              "              style=\"display:none;\">\n",
              "        \n",
              "  <svg xmlns=\"http://www.w3.org/2000/svg\" height=\"24px\"viewBox=\"0 0 24 24\"\n",
              "       width=\"24px\">\n",
              "    <path d=\"M0 0h24v24H0V0z\" fill=\"none\"/>\n",
              "    <path d=\"M18.56 5.44l.94 2.06.94-2.06 2.06-.94-2.06-.94-.94-2.06-.94 2.06-2.06.94zm-11 1L8.5 8.5l.94-2.06 2.06-.94-2.06-.94L8.5 2.5l-.94 2.06-2.06.94zm10 10l.94 2.06.94-2.06 2.06-.94-2.06-.94-.94-2.06-.94 2.06-2.06.94z\"/><path d=\"M17.41 7.96l-1.37-1.37c-.4-.4-.92-.59-1.43-.59-.52 0-1.04.2-1.43.59L10.3 9.45l-7.72 7.72c-.78.78-.78 2.05 0 2.83L4 21.41c.39.39.9.59 1.41.59.51 0 1.02-.2 1.41-.59l7.78-7.78 2.81-2.81c.8-.78.8-2.07 0-2.86zM5.41 20L4 18.59l7.72-7.72 1.47 1.35L5.41 20z\"/>\n",
              "  </svg>\n",
              "      </button>\n",
              "      \n",
              "  <style>\n",
              "    .colab-df-container {\n",
              "      display:flex;\n",
              "      flex-wrap:wrap;\n",
              "      gap: 12px;\n",
              "    }\n",
              "\n",
              "    .colab-df-convert {\n",
              "      background-color: #E8F0FE;\n",
              "      border: none;\n",
              "      border-radius: 50%;\n",
              "      cursor: pointer;\n",
              "      display: none;\n",
              "      fill: #1967D2;\n",
              "      height: 32px;\n",
              "      padding: 0 0 0 0;\n",
              "      width: 32px;\n",
              "    }\n",
              "\n",
              "    .colab-df-convert:hover {\n",
              "      background-color: #E2EBFA;\n",
              "      box-shadow: 0px 1px 2px rgba(60, 64, 67, 0.3), 0px 1px 3px 1px rgba(60, 64, 67, 0.15);\n",
              "      fill: #174EA6;\n",
              "    }\n",
              "\n",
              "    [theme=dark] .colab-df-convert {\n",
              "      background-color: #3B4455;\n",
              "      fill: #D2E3FC;\n",
              "    }\n",
              "\n",
              "    [theme=dark] .colab-df-convert:hover {\n",
              "      background-color: #434B5C;\n",
              "      box-shadow: 0px 1px 3px 1px rgba(0, 0, 0, 0.15);\n",
              "      filter: drop-shadow(0px 1px 2px rgba(0, 0, 0, 0.3));\n",
              "      fill: #FFFFFF;\n",
              "    }\n",
              "  </style>\n",
              "\n",
              "      <script>\n",
              "        const buttonEl =\n",
              "          document.querySelector('#df-4c1760f9-8633-4ea4-98ba-9fbfae27959a button.colab-df-convert');\n",
              "        buttonEl.style.display =\n",
              "          google.colab.kernel.accessAllowed ? 'block' : 'none';\n",
              "\n",
              "        async function convertToInteractive(key) {\n",
              "          const element = document.querySelector('#df-4c1760f9-8633-4ea4-98ba-9fbfae27959a');\n",
              "          const dataTable =\n",
              "            await google.colab.kernel.invokeFunction('convertToInteractive',\n",
              "                                                     [key], {});\n",
              "          if (!dataTable) return;\n",
              "\n",
              "          const docLinkHtml = 'Like what you see? Visit the ' +\n",
              "            '<a target=\"_blank\" href=https://colab.research.google.com/notebooks/data_table.ipynb>data table notebook</a>'\n",
              "            + ' to learn more about interactive tables.';\n",
              "          element.innerHTML = '';\n",
              "          dataTable['output_type'] = 'display_data';\n",
              "          await google.colab.output.renderOutput(dataTable, element);\n",
              "          const docLink = document.createElement('div');\n",
              "          docLink.innerHTML = docLinkHtml;\n",
              "          element.appendChild(docLink);\n",
              "        }\n",
              "      </script>\n",
              "    </div>\n",
              "  </div>\n",
              "  "
            ]
          },
          "metadata": {},
          "execution_count": 11
        }
      ],
      "source": [
        "df\n"
      ]
    },
    {
      "cell_type": "code",
      "execution_count": 12,
      "metadata": {
        "id": "ThAE-mAuI29A"
      },
      "outputs": [],
      "source": [
        "from wordcloud import WordCloud \n",
        "wordcloud2 = WordCloud().generate(' '.join(df['Sentence'])),\n"
      ]
    },
    {
      "cell_type": "code",
      "execution_count": 13,
      "metadata": {
        "colab": {
          "base_uri": "https://localhost:8080/",
          "height": 198
        },
        "id": "39Tto1KVJEht",
        "outputId": "c9479521-c39d-4305-eb51-a9256057cc5e"
      },
      "outputs": [
        {
          "output_type": "display_data",
          "data": {
            "text/plain": [
              "<Figure size 432x288 with 1 Axes>"
            ],
            "image/png": "[encoded data removed]"
          },
          "metadata": {
            "needs_background": "light"
          }
        }
      ],
      "source": [
        "text3 = ' '.join(df['Sentence'])\n",
        "wordcloud2 = WordCloud().generate(text3)\n",
        "# Generate plot\n",
        "plt.imshow(wordcloud2)\n",
        "plt.axis(\"off\")\n",
        "plt.show()\n"
      ]
    },
    {
      "cell_type": "code",
      "execution_count": 14,
      "metadata": {
        "colab": {
          "base_uri": "https://localhost:8080/"
        },
        "id": "xxmx1FuwJlwl",
        "outputId": "b1c82264-c7ac-4913-9a9d-b757d23c2388"
      },
      "outputs": [
        {
          "output_type": "execute_result",
          "data": {
            "text/plain": [
              "Index(['id', 'Sentence', 'Aspect Term', 'polarity', 'from', 'to'], dtype='object')"
            ]
          },
          "metadata": {},
          "execution_count": 14
        }
      ],
      "source": [
        "## display the columns of the dataframe\n",
        "df.columns"
      ]
    },
    {
      "cell_type": "code",
      "execution_count": 15,
      "metadata": {
        "colab": {
          "base_uri": "https://localhost:8080/"
        },
        "id": "ZhAbTHiKJtf-",
        "outputId": "a368f122-ebe3-4b49-afd2-24e8843f0dbf"
      },
      "outputs": [
        {
          "output_type": "execute_result",
          "data": {
            "text/plain": [
              "0"
            ]
          },
          "metadata": {},
          "execution_count": 15
        }
      ],
      "source": [
        "## display the null values in the polarity column\n",
        "df['polarity'].isna().sum()\n"
      ]
    },
    {
      "cell_type": "code",
      "execution_count": 16,
      "metadata": {
        "colab": {
          "base_uri": "https://localhost:8080/"
        },
        "id": "f6NHMGfpJ2Dm",
        "outputId": "0d6c3ba0-70e7-4499-a006-07433a4d4d29"
      },
      "outputs": [
        {
          "output_type": "stream",
          "name": "stderr",
          "text": [
            "<ipython-input-16-378d21b94d4a>:2: SettingWithCopyWarning: \n",
            "A value is trying to be set on a copy of a slice from a DataFrame\n",
            "\n",
            "See the caveats in the documentation: https://pandas.pydata.org/pandas-docs/stable/user_guide/indexing.html#returning-a-view-versus-a-copy\n",
            "  df['polarity'][df[\"polarity\"] == 'negative'] = 0\n",
            "<ipython-input-16-378d21b94d4a>:3: SettingWithCopyWarning: \n",
            "A value is trying to be set on a copy of a slice from a DataFrame\n",
            "\n",
            "See the caveats in the documentation: https://pandas.pydata.org/pandas-docs/stable/user_guide/indexing.html#returning-a-view-versus-a-copy\n",
            "  df['polarity'][df[\"polarity\"] == 'positive'] = 1\n",
            "<ipython-input-16-378d21b94d4a>:4: SettingWithCopyWarning: \n",
            "A value is trying to be set on a copy of a slice from a DataFrame\n",
            "\n",
            "See the caveats in the documentation: https://pandas.pydata.org/pandas-docs/stable/user_guide/indexing.html#returning-a-view-versus-a-copy\n",
            "  df['polarity'][df[\"polarity\"] == 'neutral'] = 2\n"
          ]
        }
      ],
      "source": [
        "## change the labels to integers for the training phase\n",
        "df['polarity'][df[\"polarity\"] == 'negative'] = 0\n",
        "df['polarity'][df[\"polarity\"] == 'positive'] = 1\n",
        "df['polarity'][df[\"polarity\"] == 'neutral'] = 2"
      ]
    },
    {
      "cell_type": "code",
      "execution_count": 17,
      "metadata": {
        "colab": {
          "base_uri": "https://localhost:8080/",
          "height": 206
        },
        "id": "UHPtlWl6J-LL",
        "outputId": "e76011e1-9916-4851-88fe-e4da735535e5"
      },
      "outputs": [
        {
          "output_type": "execute_result",
          "data": {
            "text/plain": [
              "     id                                           Sentence Aspect Term  \\\n",
              "0  3121               But the staff was so horrible to us.       staff   \n",
              "1  2777  To be completely fair, the only redeeming fact...        food   \n",
              "2  1634  The food is uniformly exceptional, with a very...        food   \n",
              "3  1634  The food is uniformly exceptional, with a very...     kitchen   \n",
              "4  1634  The food is uniformly exceptional, with a very...        menu   \n",
              "\n",
              "  polarity  from   to  \n",
              "0        0     8   13  \n",
              "1        1    57   61  \n",
              "2        1     4    8  \n",
              "3        1    55   62  \n",
              "4        2   141  145  "
            ],
            "text/html": [
              "\n",
              "  <div id=\"df-92cf8515-0c80-4bae-8d33-34a4c76ff559\">\n",
              "    <div class=\"colab-df-container\">\n",
              "      <div>\n",
              "<style scoped>\n",
              "    .dataframe tbody tr th:only-of-type {\n",
              "        vertical-align: middle;\n",
              "    }\n",
              "\n",
              "    .dataframe tbody tr th {\n",
              "        vertical-align: top;\n",
              "    }\n",
              "\n",
              "    .dataframe thead th {\n",
              "        text-align: right;\n",
              "    }\n",
              "</style>\n",
              "<table border=\"1\" class=\"dataframe\">\n",
              "  <thead>\n",
              "    <tr style=\"text-align: right;\">\n",
              "      <th></th>\n",
              "      <th>id</th>\n",
              "      <th>Sentence</th>\n",
              "      <th>Aspect Term</th>\n",
              "      <th>polarity</th>\n",
              "      <th>from</th>\n",
              "      <th>to</th>\n",
              "    </tr>\n",
              "  </thead>\n",
              "  <tbody>\n",
              "    <tr>\n",
              "      <th>0</th>\n",
              "      <td>3121</td>\n",
              "      <td>But the staff was so horrible to us.</td>\n",
              "      <td>staff</td>\n",
              "      <td>0</td>\n",
              "      <td>8</td>\n",
              "      <td>13</td>\n",
              "    </tr>\n",
              "    <tr>\n",
              "      <th>1</th>\n",
              "      <td>2777</td>\n",
              "      <td>To be completely fair, the only redeeming fact...</td>\n",
              "      <td>food</td>\n",
              "      <td>1</td>\n",
              "      <td>57</td>\n",
              "      <td>61</td>\n",
              "    </tr>\n",
              "    <tr>\n",
              "      <th>2</th>\n",
              "      <td>1634</td>\n",
              "      <td>The food is uniformly exceptional, with a very...</td>\n",
              "      <td>food</td>\n",
              "      <td>1</td>\n",
              "      <td>4</td>\n",
              "      <td>8</td>\n",
              "    </tr>\n",
              "    <tr>\n",
              "      <th>3</th>\n",
              "      <td>1634</td>\n",
              "      <td>The food is uniformly exceptional, with a very...</td>\n",
              "      <td>kitchen</td>\n",
              "      <td>1</td>\n",
              "      <td>55</td>\n",
              "      <td>62</td>\n",
              "    </tr>\n",
              "    <tr>\n",
              "      <th>4</th>\n",
              "      <td>1634</td>\n",
              "      <td>The food is uniformly exceptional, with a very...</td>\n",
              "      <td>menu</td>\n",
              "      <td>2</td>\n",
              "      <td>141</td>\n",
              "      <td>145</td>\n",
              "    </tr>\n",
              "  </tbody>\n",
              "</table>\n",
              "</div>\n",
              "      <button class=\"colab-df-convert\" onclick=\"convertToInteractive('df-92cf8515-0c80-4bae-8d33-34a4c76ff559')\"\n",
              "              title=\"Convert this dataframe to an interactive table.\"\n",
              "              style=\"display:none;\">\n",
              "        \n",
              "  <svg xmlns=\"http://www.w3.org/2000/svg\" height=\"24px\"viewBox=\"0 0 24 24\"\n",
              "       width=\"24px\">\n",
              "    <path d=\"M0 0h24v24H0V0z\" fill=\"none\"/>\n",
              "    <path d=\"M18.56 5.44l.94 2.06.94-2.06 2.06-.94-2.06-.94-.94-2.06-.94 2.06-2.06.94zm-11 1L8.5 8.5l.94-2.06 2.06-.94-2.06-.94L8.5 2.5l-.94 2.06-2.06.94zm10 10l.94 2.06.94-2.06 2.06-.94-2.06-.94-.94-2.06-.94 2.06-2.06.94z\"/><path d=\"M17.41 7.96l-1.37-1.37c-.4-.4-.92-.59-1.43-.59-.52 0-1.04.2-1.43.59L10.3 9.45l-7.72 7.72c-.78.78-.78 2.05 0 2.83L4 21.41c.39.39.9.59 1.41.59.51 0 1.02-.2 1.41-.59l7.78-7.78 2.81-2.81c.8-.78.8-2.07 0-2.86zM5.41 20L4 18.59l7.72-7.72 1.47 1.35L5.41 20z\"/>\n",
              "  </svg>\n",
              "      </button>\n",
              "      \n",
              "  <style>\n",
              "    .colab-df-container {\n",
              "      display:flex;\n",
              "      flex-wrap:wrap;\n",
              "      gap: 12px;\n",
              "    }\n",
              "\n",
              "    .colab-df-convert {\n",
              "      background-color: #E8F0FE;\n",
              "      border: none;\n",
              "      border-radius: 50%;\n",
              "      cursor: pointer;\n",
              "      display: none;\n",
              "      fill: #1967D2;\n",
              "      height: 32px;\n",
              "      padding: 0 0 0 0;\n",
              "      width: 32px;\n",
              "    }\n",
              "\n",
              "    .colab-df-convert:hover {\n",
              "      background-color: #E2EBFA;\n",
              "      box-shadow: 0px 1px 2px rgba(60, 64, 67, 0.3), 0px 1px 3px 1px rgba(60, 64, 67, 0.15);\n",
              "      fill: #174EA6;\n",
              "    }\n",
              "\n",
              "    [theme=dark] .colab-df-convert {\n",
              "      background-color: #3B4455;\n",
              "      fill: #D2E3FC;\n",
              "    }\n",
              "\n",
              "    [theme=dark] .colab-df-convert:hover {\n",
              "      background-color: #434B5C;\n",
              "      box-shadow: 0px 1px 3px 1px rgba(0, 0, 0, 0.15);\n",
              "      filter: drop-shadow(0px 1px 2px rgba(0, 0, 0, 0.3));\n",
              "      fill: #FFFFFF;\n",
              "    }\n",
              "  </style>\n",
              "\n",
              "      <script>\n",
              "        const buttonEl =\n",
              "          document.querySelector('#df-92cf8515-0c80-4bae-8d33-34a4c76ff559 button.colab-df-convert');\n",
              "        buttonEl.style.display =\n",
              "          google.colab.kernel.accessAllowed ? 'block' : 'none';\n",
              "\n",
              "        async function convertToInteractive(key) {\n",
              "          const element = document.querySelector('#df-92cf8515-0c80-4bae-8d33-34a4c76ff559');\n",
              "          const dataTable =\n",
              "            await google.colab.kernel.invokeFunction('convertToInteractive',\n",
              "                                                     [key], {});\n",
              "          if (!dataTable) return;\n",
              "\n",
              "          const docLinkHtml = 'Like what you see? Visit the ' +\n",
              "            '<a target=\"_blank\" href=https://colab.research.google.com/notebooks/data_table.ipynb>data table notebook</a>'\n",
              "            + ' to learn more about interactive tables.';\n",
              "          element.innerHTML = '';\n",
              "          dataTable['output_type'] = 'display_data';\n",
              "          await google.colab.output.renderOutput(dataTable, element);\n",
              "          const docLink = document.createElement('div');\n",
              "          docLink.innerHTML = docLinkHtml;\n",
              "          element.appendChild(docLink);\n",
              "        }\n",
              "      </script>\n",
              "    </div>\n",
              "  </div>\n",
              "  "
            ]
          },
          "metadata": {},
          "execution_count": 17
        }
      ],
      "source": [
        "df.head()\n"
      ]
    },
    {
      "cell_type": "code",
      "execution_count": 18,
      "metadata": {
        "id": "wZVyHqTCKJH7"
      },
      "outputs": [],
      "source": [
        "train_df = df.drop(['id','from','to'], axis = 1)\n"
      ]
    },
    {
      "cell_type": "code",
      "execution_count": 19,
      "metadata": {
        "colab": {
          "base_uri": "https://localhost:8080/"
        },
        "id": "1VvcJv_1KO8X",
        "outputId": "ac8d44e8-2a2f-4882-8c91-05c13c1ded79"
      },
      "outputs": [
        {
          "output_type": "execute_result",
          "data": {
            "text/plain": [
              "array([0, 1, 2, 'conflict'], dtype=object)"
            ]
          },
          "metadata": {},
          "execution_count": 19
        }
      ],
      "source": [
        "Aspects_term = train_df['polarity'].unique()\n",
        "Aspects_term[:20]\n"
      ]
    },
    {
      "cell_type": "code",
      "execution_count": 20,
      "metadata": {
        "colab": {
          "base_uri": "https://localhost:8080/",
          "height": 206
        },
        "id": "PibPygm4KguO",
        "outputId": "6ff7e949-3592-4c30-a590-efb3ea33d673"
      },
      "outputs": [
        {
          "output_type": "execute_result",
          "data": {
            "text/plain": [
              "                                            Sentence Aspect Term polarity\n",
              "0               But the staff was so horrible to us.       staff        0\n",
              "1  To be completely fair, the only redeeming fact...        food        1\n",
              "2  The food is uniformly exceptional, with a very...        food        1\n",
              "3  The food is uniformly exceptional, with a very...     kitchen        1\n",
              "4  The food is uniformly exceptional, with a very...        menu        2"
            ],
            "text/html": [
              "\n",
              "  <div id=\"df-63c16001-2e7a-48ef-aa81-85421f9d1f23\">\n",
              "    <div class=\"colab-df-container\">\n",
              "      <div>\n",
              "<style scoped>\n",
              "    .dataframe tbody tr th:only-of-type {\n",
              "        vertical-align: middle;\n",
              "    }\n",
              "\n",
              "    .dataframe tbody tr th {\n",
              "        vertical-align: top;\n",
              "    }\n",
              "\n",
              "    .dataframe thead th {\n",
              "        text-align: right;\n",
              "    }\n",
              "</style>\n",
              "<table border=\"1\" class=\"dataframe\">\n",
              "  <thead>\n",
              "    <tr style=\"text-align: right;\">\n",
              "      <th></th>\n",
              "      <th>Sentence</th>\n",
              "      <th>Aspect Term</th>\n",
              "      <th>polarity</th>\n",
              "    </tr>\n",
              "  </thead>\n",
              "  <tbody>\n",
              "    <tr>\n",
              "      <th>0</th>\n",
              "      <td>But the staff was so horrible to us.</td>\n",
              "      <td>staff</td>\n",
              "      <td>0</td>\n",
              "    </tr>\n",
              "    <tr>\n",
              "      <th>1</th>\n",
              "      <td>To be completely fair, the only redeeming fact...</td>\n",
              "      <td>food</td>\n",
              "      <td>1</td>\n",
              "    </tr>\n",
              "    <tr>\n",
              "      <th>2</th>\n",
              "      <td>The food is uniformly exceptional, with a very...</td>\n",
              "      <td>food</td>\n",
              "      <td>1</td>\n",
              "    </tr>\n",
              "    <tr>\n",
              "      <th>3</th>\n",
              "      <td>The food is uniformly exceptional, with a very...</td>\n",
              "      <td>kitchen</td>\n",
              "      <td>1</td>\n",
              "    </tr>\n",
              "    <tr>\n",
              "      <th>4</th>\n",
              "      <td>The food is uniformly exceptional, with a very...</td>\n",
              "      <td>menu</td>\n",
              "      <td>2</td>\n",
              "    </tr>\n",
              "  </tbody>\n",
              "</table>\n",
              "</div>\n",
              "      <button class=\"colab-df-convert\" onclick=\"convertToInteractive('df-63c16001-2e7a-48ef-aa81-85421f9d1f23')\"\n",
              "              title=\"Convert this dataframe to an interactive table.\"\n",
              "              style=\"display:none;\">\n",
              "        \n",
              "  <svg xmlns=\"http://www.w3.org/2000/svg\" height=\"24px\"viewBox=\"0 0 24 24\"\n",
              "       width=\"24px\">\n",
              "    <path d=\"M0 0h24v24H0V0z\" fill=\"none\"/>\n",
              "    <path d=\"M18.56 5.44l.94 2.06.94-2.06 2.06-.94-2.06-.94-.94-2.06-.94 2.06-2.06.94zm-11 1L8.5 8.5l.94-2.06 2.06-.94-2.06-.94L8.5 2.5l-.94 2.06-2.06.94zm10 10l.94 2.06.94-2.06 2.06-.94-2.06-.94-.94-2.06-.94 2.06-2.06.94z\"/><path d=\"M17.41 7.96l-1.37-1.37c-.4-.4-.92-.59-1.43-.59-.52 0-1.04.2-1.43.59L10.3 9.45l-7.72 7.72c-.78.78-.78 2.05 0 2.83L4 21.41c.39.39.9.59 1.41.59.51 0 1.02-.2 1.41-.59l7.78-7.78 2.81-2.81c.8-.78.8-2.07 0-2.86zM5.41 20L4 18.59l7.72-7.72 1.47 1.35L5.41 20z\"/>\n",
              "  </svg>\n",
              "      </button>\n",
              "      \n",
              "  <style>\n",
              "    .colab-df-container {\n",
              "      display:flex;\n",
              "      flex-wrap:wrap;\n",
              "      gap: 12px;\n",
              "    }\n",
              "\n",
              "    .colab-df-convert {\n",
              "      background-color: #E8F0FE;\n",
              "      border: none;\n",
              "      border-radius: 50%;\n",
              "      cursor: pointer;\n",
              "      display: none;\n",
              "      fill: #1967D2;\n",
              "      height: 32px;\n",
              "      padding: 0 0 0 0;\n",
              "      width: 32px;\n",
              "    }\n",
              "\n",
              "    .colab-df-convert:hover {\n",
              "      background-color: #E2EBFA;\n",
              "      box-shadow: 0px 1px 2px rgba(60, 64, 67, 0.3), 0px 1px 3px 1px rgba(60, 64, 67, 0.15);\n",
              "      fill: #174EA6;\n",
              "    }\n",
              "\n",
              "    [theme=dark] .colab-df-convert {\n",
              "      background-color: #3B4455;\n",
              "      fill: #D2E3FC;\n",
              "    }\n",
              "\n",
              "    [theme=dark] .colab-df-convert:hover {\n",
              "      background-color: #434B5C;\n",
              "      box-shadow: 0px 1px 3px 1px rgba(0, 0, 0, 0.15);\n",
              "      filter: drop-shadow(0px 1px 2px rgba(0, 0, 0, 0.3));\n",
              "      fill: #FFFFFF;\n",
              "    }\n",
              "  </style>\n",
              "\n",
              "      <script>\n",
              "        const buttonEl =\n",
              "          document.querySelector('#df-63c16001-2e7a-48ef-aa81-85421f9d1f23 button.colab-df-convert');\n",
              "        buttonEl.style.display =\n",
              "          google.colab.kernel.accessAllowed ? 'block' : 'none';\n",
              "\n",
              "        async function convertToInteractive(key) {\n",
              "          const element = document.querySelector('#df-63c16001-2e7a-48ef-aa81-85421f9d1f23');\n",
              "          const dataTable =\n",
              "            await google.colab.kernel.invokeFunction('convertToInteractive',\n",
              "                                                     [key], {});\n",
              "          if (!dataTable) return;\n",
              "\n",
              "          const docLinkHtml = 'Like what you see? Visit the ' +\n",
              "            '<a target=\"_blank\" href=https://colab.research.google.com/notebooks/data_table.ipynb>data table notebook</a>'\n",
              "            + ' to learn more about interactive tables.';\n",
              "          element.innerHTML = '';\n",
              "          dataTable['output_type'] = 'display_data';\n",
              "          await google.colab.output.renderOutput(dataTable, element);\n",
              "          const docLink = document.createElement('div');\n",
              "          docLink.innerHTML = docLinkHtml;\n",
              "          element.appendChild(docLink);\n",
              "        }\n",
              "      </script>\n",
              "    </div>\n",
              "  </div>\n",
              "  "
            ]
          },
          "metadata": {},
          "execution_count": 20
        }
      ],
      "source": [
        "train_df.head()\n"
      ]
    },
    {
      "cell_type": "code",
      "execution_count": 21,
      "metadata": {
        "colab": {
          "base_uri": "https://localhost:8080/",
          "height": 424
        },
        "id": "6rk2TBmYK9xX",
        "outputId": "06f692bb-60bc-4f9b-c226-634f4650969b"
      },
      "outputs": [
        {
          "output_type": "execute_result",
          "data": {
            "text/plain": [
              "                                               Sentence  \\\n",
              "64    The food was delicious but do not come here on...   \n",
              "101   The service varys from day to day- sometimes t...   \n",
              "133   Though the Spider Roll may look like a challen...   \n",
              "142   An oasis of refinement:  Food, though somewhat...   \n",
              "172   Food is usually very good, though ocasionally ...   \n",
              "...                                                 ...   \n",
              "5372  It had a seventeen inch screen which I wanted,...   \n",
              "5409  While lacking some of the functions of the oth...   \n",
              "5547     Speakers don't get that loud, but good enough.   \n",
              "5552  Screen is crystal clear, yes it's small - but ...   \n",
              "6048  How Toshiba handles the repair seems to vary, ...   \n",
              "\n",
              "                Aspect Term  polarity  \n",
              "64                     food  conflict  \n",
              "101                 service  conflict  \n",
              "133             Spider Roll  conflict  \n",
              "142                    Food  conflict  \n",
              "172                    Food  conflict  \n",
              "...                     ...       ...  \n",
              "5372  seventeen inch screen  conflict  \n",
              "5409              functions  conflict  \n",
              "5547               Speakers  conflict  \n",
              "5552                 Screen  conflict  \n",
              "6048                 repair  conflict  \n",
              "\n",
              "[136 rows x 3 columns]"
            ],
            "text/html": [
              "\n",
              "  <div id=\"df-b65784b3-5c9c-49df-9664-d1fd5bd23a79\">\n",
              "    <div class=\"colab-df-container\">\n",
              "      <div>\n",
              "<style scoped>\n",
              "    .dataframe tbody tr th:only-of-type {\n",
              "        vertical-align: middle;\n",
              "    }\n",
              "\n",
              "    .dataframe tbody tr th {\n",
              "        vertical-align: top;\n",
              "    }\n",
              "\n",
              "    .dataframe thead th {\n",
              "        text-align: right;\n",
              "    }\n",
              "</style>\n",
              "<table border=\"1\" class=\"dataframe\">\n",
              "  <thead>\n",
              "    <tr style=\"text-align: right;\">\n",
              "      <th></th>\n",
              "      <th>Sentence</th>\n",
              "      <th>Aspect Term</th>\n",
              "      <th>polarity</th>\n",
              "    </tr>\n",
              "  </thead>\n",
              "  <tbody>\n",
              "    <tr>\n",
              "      <th>64</th>\n",
              "      <td>The food was delicious but do not come here on...</td>\n",
              "      <td>food</td>\n",
              "      <td>conflict</td>\n",
              "    </tr>\n",
              "    <tr>\n",
              "      <th>101</th>\n",
              "      <td>The service varys from day to day- sometimes t...</td>\n",
              "      <td>service</td>\n",
              "      <td>conflict</td>\n",
              "    </tr>\n",
              "    <tr>\n",
              "      <th>133</th>\n",
              "      <td>Though the Spider Roll may look like a challen...</td>\n",
              "      <td>Spider Roll</td>\n",
              "      <td>conflict</td>\n",
              "    </tr>\n",
              "    <tr>\n",
              "      <th>142</th>\n",
              "      <td>An oasis of refinement:  Food, though somewhat...</td>\n",
              "      <td>Food</td>\n",
              "      <td>conflict</td>\n",
              "    </tr>\n",
              "    <tr>\n",
              "      <th>172</th>\n",
              "      <td>Food is usually very good, though ocasionally ...</td>\n",
              "      <td>Food</td>\n",
              "      <td>conflict</td>\n",
              "    </tr>\n",
              "    <tr>\n",
              "      <th>...</th>\n",
              "      <td>...</td>\n",
              "      <td>...</td>\n",
              "      <td>...</td>\n",
              "    </tr>\n",
              "    <tr>\n",
              "      <th>5372</th>\n",
              "      <td>It had a seventeen inch screen which I wanted,...</td>\n",
              "      <td>seventeen inch screen</td>\n",
              "      <td>conflict</td>\n",
              "    </tr>\n",
              "    <tr>\n",
              "      <th>5409</th>\n",
              "      <td>While lacking some of the functions of the oth...</td>\n",
              "      <td>functions</td>\n",
              "      <td>conflict</td>\n",
              "    </tr>\n",
              "    <tr>\n",
              "      <th>5547</th>\n",
              "      <td>Speakers don't get that loud, but good enough.</td>\n",
              "      <td>Speakers</td>\n",
              "      <td>conflict</td>\n",
              "    </tr>\n",
              "    <tr>\n",
              "      <th>5552</th>\n",
              "      <td>Screen is crystal clear, yes it's small - but ...</td>\n",
              "      <td>Screen</td>\n",
              "      <td>conflict</td>\n",
              "    </tr>\n",
              "    <tr>\n",
              "      <th>6048</th>\n",
              "      <td>How Toshiba handles the repair seems to vary, ...</td>\n",
              "      <td>repair</td>\n",
              "      <td>conflict</td>\n",
              "    </tr>\n",
              "  </tbody>\n",
              "</table>\n",
              "<p>136 rows × 3 columns</p>\n",
              "</div>\n",
              "      <button class=\"colab-df-convert\" onclick=\"convertToInteractive('df-b65784b3-5c9c-49df-9664-d1fd5bd23a79')\"\n",
              "              title=\"Convert this dataframe to an interactive table.\"\n",
              "              style=\"display:none;\">\n",
              "        \n",
              "  <svg xmlns=\"http://www.w3.org/2000/svg\" height=\"24px\"viewBox=\"0 0 24 24\"\n",
              "       width=\"24px\">\n",
              "    <path d=\"M0 0h24v24H0V0z\" fill=\"none\"/>\n",
              "    <path d=\"M18.56 5.44l.94 2.06.94-2.06 2.06-.94-2.06-.94-.94-2.06-.94 2.06-2.06.94zm-11 1L8.5 8.5l.94-2.06 2.06-.94-2.06-.94L8.5 2.5l-.94 2.06-2.06.94zm10 10l.94 2.06.94-2.06 2.06-.94-2.06-.94-.94-2.06-.94 2.06-2.06.94z\"/><path d=\"M17.41 7.96l-1.37-1.37c-.4-.4-.92-.59-1.43-.59-.52 0-1.04.2-1.43.59L10.3 9.45l-7.72 7.72c-.78.78-.78 2.05 0 2.83L4 21.41c.39.39.9.59 1.41.59.51 0 1.02-.2 1.41-.59l7.78-7.78 2.81-2.81c.8-.78.8-2.07 0-2.86zM5.41 20L4 18.59l7.72-7.72 1.47 1.35L5.41 20z\"/>\n",
              "  </svg>\n",
              "      </button>\n",
              "      \n",
              "  <style>\n",
              "    .colab-df-container {\n",
              "      display:flex;\n",
              "      flex-wrap:wrap;\n",
              "      gap: 12px;\n",
              "    }\n",
              "\n",
              "    .colab-df-convert {\n",
              "      background-color: #E8F0FE;\n",
              "      border: none;\n",
              "      border-radius: 50%;\n",
              "      cursor: pointer;\n",
              "      display: none;\n",
              "      fill: #1967D2;\n",
              "      height: 32px;\n",
              "      padding: 0 0 0 0;\n",
              "      width: 32px;\n",
              "    }\n",
              "\n",
              "    .colab-df-convert:hover {\n",
              "      background-color: #E2EBFA;\n",
              "      box-shadow: 0px 1px 2px rgba(60, 64, 67, 0.3), 0px 1px 3px 1px rgba(60, 64, 67, 0.15);\n",
              "      fill: #174EA6;\n",
              "    }\n",
              "\n",
              "    [theme=dark] .colab-df-convert {\n",
              "      background-color: #3B4455;\n",
              "      fill: #D2E3FC;\n",
              "    }\n",
              "\n",
              "    [theme=dark] .colab-df-convert:hover {\n",
              "      background-color: #434B5C;\n",
              "      box-shadow: 0px 1px 3px 1px rgba(0, 0, 0, 0.15);\n",
              "      filter: drop-shadow(0px 1px 2px rgba(0, 0, 0, 0.3));\n",
              "      fill: #FFFFFF;\n",
              "    }\n",
              "  </style>\n",
              "\n",
              "      <script>\n",
              "        const buttonEl =\n",
              "          document.querySelector('#df-b65784b3-5c9c-49df-9664-d1fd5bd23a79 button.colab-df-convert');\n",
              "        buttonEl.style.display =\n",
              "          google.colab.kernel.accessAllowed ? 'block' : 'none';\n",
              "\n",
              "        async function convertToInteractive(key) {\n",
              "          const element = document.querySelector('#df-b65784b3-5c9c-49df-9664-d1fd5bd23a79');\n",
              "          const dataTable =\n",
              "            await google.colab.kernel.invokeFunction('convertToInteractive',\n",
              "                                                     [key], {});\n",
              "          if (!dataTable) return;\n",
              "\n",
              "          const docLinkHtml = 'Like what you see? Visit the ' +\n",
              "            '<a target=\"_blank\" href=https://colab.research.google.com/notebooks/data_table.ipynb>data table notebook</a>'\n",
              "            + ' to learn more about interactive tables.';\n",
              "          element.innerHTML = '';\n",
              "          dataTable['output_type'] = 'display_data';\n",
              "          await google.colab.output.renderOutput(dataTable, element);\n",
              "          const docLink = document.createElement('div');\n",
              "          docLink.innerHTML = docLinkHtml;\n",
              "          element.appendChild(docLink);\n",
              "        }\n",
              "      </script>\n",
              "    </div>\n",
              "  </div>\n",
              "  "
            ]
          },
          "metadata": {},
          "execution_count": 21
        }
      ],
      "source": [
        "train_df[train_df.polarity == 'conflict']\n"
      ]
    },
    {
      "cell_type": "code",
      "execution_count": 22,
      "metadata": {
        "id": "rXhk7GC6L1lS"
      },
      "outputs": [],
      "source": [
        "## Delete the polarity than contains CONFLICT, Means that the sentence contains more than one sentiment when it comes to the aspect term\n",
        "train_df.drop(train_df[train_df.polarity == 'conflict'].index, inplace = True)"
      ]
    },
    {
      "cell_type": "code",
      "execution_count": 23,
      "metadata": {
        "colab": {
          "base_uri": "https://localhost:8080/",
          "height": 424
        },
        "id": "o_iVOcB3L5wr",
        "outputId": "650507ff-598e-40a3-ea37-d1544d2cd928"
      },
      "outputs": [
        {
          "output_type": "execute_result",
          "data": {
            "text/plain": [
              "                                               Sentence  \\\n",
              "0                  But the staff was so horrible to us.   \n",
              "1     To be completely fair, the only redeeming fact...   \n",
              "2     The food is uniformly exceptional, with a very...   \n",
              "3     The food is uniformly exceptional, with a very...   \n",
              "4     The food is uniformly exceptional, with a very...   \n",
              "...                                                 ...   \n",
              "6045  We also use Paralles so we can run virtual mac...   \n",
              "6046  We also use Paralles so we can run virtual mac...   \n",
              "6047  We also use Paralles so we can run virtual mac...   \n",
              "6049  How Toshiba handles the repair seems to vary, ...   \n",
              "6050  I would like to use a different operating syst...   \n",
              "\n",
              "                         Aspect Term polarity  \n",
              "0                              staff        0  \n",
              "1                               food        1  \n",
              "2                               food        1  \n",
              "3                            kitchen        1  \n",
              "4                               menu        2  \n",
              "...                              ...      ...  \n",
              "6045          Windows 7 Home Premium        2  \n",
              "6046  Windows Server Enterprise 2003        2  \n",
              "6047  Windows Server 2008 Enterprise        2  \n",
              "6049                          repair        1  \n",
              "6050                operating system        2  \n",
              "\n",
              "[5915 rows x 3 columns]"
            ],
            "text/html": [
              "\n",
              "  <div id=\"df-00080ee2-92e2-4707-8059-8af668e8e581\">\n",
              "    <div class=\"colab-df-container\">\n",
              "      <div>\n",
              "<style scoped>\n",
              "    .dataframe tbody tr th:only-of-type {\n",
              "        vertical-align: middle;\n",
              "    }\n",
              "\n",
              "    .dataframe tbody tr th {\n",
              "        vertical-align: top;\n",
              "    }\n",
              "\n",
              "    .dataframe thead th {\n",
              "        text-align: right;\n",
              "    }\n",
              "</style>\n",
              "<table border=\"1\" class=\"dataframe\">\n",
              "  <thead>\n",
              "    <tr style=\"text-align: right;\">\n",
              "      <th></th>\n",
              "      <th>Sentence</th>\n",
              "      <th>Aspect Term</th>\n",
              "      <th>polarity</th>\n",
              "    </tr>\n",
              "  </thead>\n",
              "  <tbody>\n",
              "    <tr>\n",
              "      <th>0</th>\n",
              "      <td>But the staff was so horrible to us.</td>\n",
              "      <td>staff</td>\n",
              "      <td>0</td>\n",
              "    </tr>\n",
              "    <tr>\n",
              "      <th>1</th>\n",
              "      <td>To be completely fair, the only redeeming fact...</td>\n",
              "      <td>food</td>\n",
              "      <td>1</td>\n",
              "    </tr>\n",
              "    <tr>\n",
              "      <th>2</th>\n",
              "      <td>The food is uniformly exceptional, with a very...</td>\n",
              "      <td>food</td>\n",
              "      <td>1</td>\n",
              "    </tr>\n",
              "    <tr>\n",
              "      <th>3</th>\n",
              "      <td>The food is uniformly exceptional, with a very...</td>\n",
              "      <td>kitchen</td>\n",
              "      <td>1</td>\n",
              "    </tr>\n",
              "    <tr>\n",
              "      <th>4</th>\n",
              "      <td>The food is uniformly exceptional, with a very...</td>\n",
              "      <td>menu</td>\n",
              "      <td>2</td>\n",
              "    </tr>\n",
              "    <tr>\n",
              "      <th>...</th>\n",
              "      <td>...</td>\n",
              "      <td>...</td>\n",
              "      <td>...</td>\n",
              "    </tr>\n",
              "    <tr>\n",
              "      <th>6045</th>\n",
              "      <td>We also use Paralles so we can run virtual mac...</td>\n",
              "      <td>Windows 7 Home Premium</td>\n",
              "      <td>2</td>\n",
              "    </tr>\n",
              "    <tr>\n",
              "      <th>6046</th>\n",
              "      <td>We also use Paralles so we can run virtual mac...</td>\n",
              "      <td>Windows Server Enterprise 2003</td>\n",
              "      <td>2</td>\n",
              "    </tr>\n",
              "    <tr>\n",
              "      <th>6047</th>\n",
              "      <td>We also use Paralles so we can run virtual mac...</td>\n",
              "      <td>Windows Server 2008 Enterprise</td>\n",
              "      <td>2</td>\n",
              "    </tr>\n",
              "    <tr>\n",
              "      <th>6049</th>\n",
              "      <td>How Toshiba handles the repair seems to vary, ...</td>\n",
              "      <td>repair</td>\n",
              "      <td>1</td>\n",
              "    </tr>\n",
              "    <tr>\n",
              "      <th>6050</th>\n",
              "      <td>I would like to use a different operating syst...</td>\n",
              "      <td>operating system</td>\n",
              "      <td>2</td>\n",
              "    </tr>\n",
              "  </tbody>\n",
              "</table>\n",
              "<p>5915 rows × 3 columns</p>\n",
              "</div>\n",
              "      <button class=\"colab-df-convert\" onclick=\"convertToInteractive('df-00080ee2-92e2-4707-8059-8af668e8e581')\"\n",
              "              title=\"Convert this dataframe to an interactive table.\"\n",
              "              style=\"display:none;\">\n",
              "        \n",
              "  <svg xmlns=\"http://www.w3.org/2000/svg\" height=\"24px\"viewBox=\"0 0 24 24\"\n",
              "       width=\"24px\">\n",
              "    <path d=\"M0 0h24v24H0V0z\" fill=\"none\"/>\n",
              "    <path d=\"M18.56 5.44l.94 2.06.94-2.06 2.06-.94-2.06-.94-.94-2.06-.94 2.06-2.06.94zm-11 1L8.5 8.5l.94-2.06 2.06-.94-2.06-.94L8.5 2.5l-.94 2.06-2.06.94zm10 10l.94 2.06.94-2.06 2.06-.94-2.06-.94-.94-2.06-.94 2.06-2.06.94z\"/><path d=\"M17.41 7.96l-1.37-1.37c-.4-.4-.92-.59-1.43-.59-.52 0-1.04.2-1.43.59L10.3 9.45l-7.72 7.72c-.78.78-.78 2.05 0 2.83L4 21.41c.39.39.9.59 1.41.59.51 0 1.02-.2 1.41-.59l7.78-7.78 2.81-2.81c.8-.78.8-2.07 0-2.86zM5.41 20L4 18.59l7.72-7.72 1.47 1.35L5.41 20z\"/>\n",
              "  </svg>\n",
              "      </button>\n",
              "      \n",
              "  <style>\n",
              "    .colab-df-container {\n",
              "      display:flex;\n",
              "      flex-wrap:wrap;\n",
              "      gap: 12px;\n",
              "    }\n",
              "\n",
              "    .colab-df-convert {\n",
              "      background-color: #E8F0FE;\n",
              "      border: none;\n",
              "      border-radius: 50%;\n",
              "      cursor: pointer;\n",
              "      display: none;\n",
              "      fill: #1967D2;\n",
              "      height: 32px;\n",
              "      padding: 0 0 0 0;\n",
              "      width: 32px;\n",
              "    }\n",
              "\n",
              "    .colab-df-convert:hover {\n",
              "      background-color: #E2EBFA;\n",
              "      box-shadow: 0px 1px 2px rgba(60, 64, 67, 0.3), 0px 1px 3px 1px rgba(60, 64, 67, 0.15);\n",
              "      fill: #174EA6;\n",
              "    }\n",
              "\n",
              "    [theme=dark] .colab-df-convert {\n",
              "      background-color: #3B4455;\n",
              "      fill: #D2E3FC;\n",
              "    }\n",
              "\n",
              "    [theme=dark] .colab-df-convert:hover {\n",
              "      background-color: #434B5C;\n",
              "      box-shadow: 0px 1px 3px 1px rgba(0, 0, 0, 0.15);\n",
              "      filter: drop-shadow(0px 1px 2px rgba(0, 0, 0, 0.3));\n",
              "      fill: #FFFFFF;\n",
              "    }\n",
              "  </style>\n",
              "\n",
              "      <script>\n",
              "        const buttonEl =\n",
              "          document.querySelector('#df-00080ee2-92e2-4707-8059-8af668e8e581 button.colab-df-convert');\n",
              "        buttonEl.style.display =\n",
              "          google.colab.kernel.accessAllowed ? 'block' : 'none';\n",
              "\n",
              "        async function convertToInteractive(key) {\n",
              "          const element = document.querySelector('#df-00080ee2-92e2-4707-8059-8af668e8e581');\n",
              "          const dataTable =\n",
              "            await google.colab.kernel.invokeFunction('convertToInteractive',\n",
              "                                                     [key], {});\n",
              "          if (!dataTable) return;\n",
              "\n",
              "          const docLinkHtml = 'Like what you see? Visit the ' +\n",
              "            '<a target=\"_blank\" href=https://colab.research.google.com/notebooks/data_table.ipynb>data table notebook</a>'\n",
              "            + ' to learn more about interactive tables.';\n",
              "          element.innerHTML = '';\n",
              "          dataTable['output_type'] = 'display_data';\n",
              "          await google.colab.output.renderOutput(dataTable, element);\n",
              "          const docLink = document.createElement('div');\n",
              "          docLink.innerHTML = docLinkHtml;\n",
              "          element.appendChild(docLink);\n",
              "        }\n",
              "      </script>\n",
              "    </div>\n",
              "  </div>\n",
              "  "
            ]
          },
          "metadata": {},
          "execution_count": 23
        }
      ],
      "source": [
        "## our new Dataframe\n",
        "train_df\n"
      ]
    },
    {
      "cell_type": "code",
      "execution_count": 24,
      "metadata": {
        "colab": {
          "base_uri": "https://localhost:8080/"
        },
        "id": "r45RX4-OMHv-",
        "outputId": "7180a29d-27e1-490b-a0d9-bdc65ab61187"
      },
      "outputs": [
        {
          "output_type": "execute_result",
          "data": {
            "text/plain": [
              "(6051, 6)"
            ]
          },
          "metadata": {},
          "execution_count": 24
        }
      ],
      "source": [
        "## Training data shape \n",
        "df.shape"
      ]
    },
    {
      "cell_type": "code",
      "execution_count": 25,
      "metadata": {
        "colab": {
          "base_uri": "https://localhost:8080/",
          "height": 280
        },
        "id": "PaPQeQLjMO1G",
        "outputId": "0b3b2ac7-9c77-4f81-983f-63ac217edab4"
      },
      "outputs": [
        {
          "output_type": "execute_result",
          "data": {
            "text/plain": [
              "<matplotlib.axes._subplots.AxesSubplot at 0x7ff711aff310>"
            ]
          },
          "metadata": {},
          "execution_count": 25
        },
        {
          "output_type": "display_data",
          "data": {
            "text/plain": [
              "<Figure size 432x288 with 1 Axes>"
            ],
            "image/png": "[encoded data removed]"
          },
          "metadata": {
            "needs_background": "light"
          }
        }
      ],
      "source": [
        "# Polarities distribution in our dataset\n",
        "train_df.polarity.value_counts().sort_values().plot(kind = 'bar')"
      ]
    },
    {
      "cell_type": "code",
      "execution_count": 26,
      "metadata": {
        "id": "srzs4v_MM1IV"
      },
      "outputs": [],
      "source": [
        "## Convert polarity Values to Integers \n",
        "train_df[\"polarity\"] = pd.to_numeric(train_df[\"polarity\"],errors='coerce')"
      ]
    },
    {
      "cell_type": "code",
      "execution_count": 27,
      "metadata": {
        "colab": {
          "base_uri": "https://localhost:8080/",
          "height": 206
        },
        "id": "xI2cBDokM78y",
        "outputId": "205357bd-9a02-4580-83f5-29ce6c446a98"
      },
      "outputs": [
        {
          "output_type": "execute_result",
          "data": {
            "text/plain": [
              "                                            Sentence Aspect Term  polarity\n",
              "0               But the staff was so horrible to us.       staff         0\n",
              "1  To be completely fair, the only redeeming fact...        food         1\n",
              "2  The food is uniformly exceptional, with a very...        food         1\n",
              "3  The food is uniformly exceptional, with a very...     kitchen         1\n",
              "4  The food is uniformly exceptional, with a very...        menu         2"
            ],
            "text/html": [
              "\n",
              "  <div id=\"df-44f0805f-dac2-48fe-a48e-6a3e97011ed3\">\n",
              "    <div class=\"colab-df-container\">\n",
              "      <div>\n",
              "<style scoped>\n",
              "    .dataframe tbody tr th:only-of-type {\n",
              "        vertical-align: middle;\n",
              "    }\n",
              "\n",
              "    .dataframe tbody tr th {\n",
              "        vertical-align: top;\n",
              "    }\n",
              "\n",
              "    .dataframe thead th {\n",
              "        text-align: right;\n",
              "    }\n",
              "</style>\n",
              "<table border=\"1\" class=\"dataframe\">\n",
              "  <thead>\n",
              "    <tr style=\"text-align: right;\">\n",
              "      <th></th>\n",
              "      <th>Sentence</th>\n",
              "      <th>Aspect Term</th>\n",
              "      <th>polarity</th>\n",
              "    </tr>\n",
              "  </thead>\n",
              "  <tbody>\n",
              "    <tr>\n",
              "      <th>0</th>\n",
              "      <td>But the staff was so horrible to us.</td>\n",
              "      <td>staff</td>\n",
              "      <td>0</td>\n",
              "    </tr>\n",
              "    <tr>\n",
              "      <th>1</th>\n",
              "      <td>To be completely fair, the only redeeming fact...</td>\n",
              "      <td>food</td>\n",
              "      <td>1</td>\n",
              "    </tr>\n",
              "    <tr>\n",
              "      <th>2</th>\n",
              "      <td>The food is uniformly exceptional, with a very...</td>\n",
              "      <td>food</td>\n",
              "      <td>1</td>\n",
              "    </tr>\n",
              "    <tr>\n",
              "      <th>3</th>\n",
              "      <td>The food is uniformly exceptional, with a very...</td>\n",
              "      <td>kitchen</td>\n",
              "      <td>1</td>\n",
              "    </tr>\n",
              "    <tr>\n",
              "      <th>4</th>\n",
              "      <td>The food is uniformly exceptional, with a very...</td>\n",
              "      <td>menu</td>\n",
              "      <td>2</td>\n",
              "    </tr>\n",
              "  </tbody>\n",
              "</table>\n",
              "</div>\n",
              "      <button class=\"colab-df-convert\" onclick=\"convertToInteractive('df-44f0805f-dac2-48fe-a48e-6a3e97011ed3')\"\n",
              "              title=\"Convert this dataframe to an interactive table.\"\n",
              "              style=\"display:none;\">\n",
              "        \n",
              "  <svg xmlns=\"http://www.w3.org/2000/svg\" height=\"24px\"viewBox=\"0 0 24 24\"\n",
              "       width=\"24px\">\n",
              "    <path d=\"M0 0h24v24H0V0z\" fill=\"none\"/>\n",
              "    <path d=\"M18.56 5.44l.94 2.06.94-2.06 2.06-.94-2.06-.94-.94-2.06-.94 2.06-2.06.94zm-11 1L8.5 8.5l.94-2.06 2.06-.94-2.06-.94L8.5 2.5l-.94 2.06-2.06.94zm10 10l.94 2.06.94-2.06 2.06-.94-2.06-.94-.94-2.06-.94 2.06-2.06.94z\"/><path d=\"M17.41 7.96l-1.37-1.37c-.4-.4-.92-.59-1.43-.59-.52 0-1.04.2-1.43.59L10.3 9.45l-7.72 7.72c-.78.78-.78 2.05 0 2.83L4 21.41c.39.39.9.59 1.41.59.51 0 1.02-.2 1.41-.59l7.78-7.78 2.81-2.81c.8-.78.8-2.07 0-2.86zM5.41 20L4 18.59l7.72-7.72 1.47 1.35L5.41 20z\"/>\n",
              "  </svg>\n",
              "      </button>\n",
              "      \n",
              "  <style>\n",
              "    .colab-df-container {\n",
              "      display:flex;\n",
              "      flex-wrap:wrap;\n",
              "      gap: 12px;\n",
              "    }\n",
              "\n",
              "    .colab-df-convert {\n",
              "      background-color: #E8F0FE;\n",
              "      border: none;\n",
              "      border-radius: 50%;\n",
              "      cursor: pointer;\n",
              "      display: none;\n",
              "      fill: #1967D2;\n",
              "      height: 32px;\n",
              "      padding: 0 0 0 0;\n",
              "      width: 32px;\n",
              "    }\n",
              "\n",
              "    .colab-df-convert:hover {\n",
              "      background-color: #E2EBFA;\n",
              "      box-shadow: 0px 1px 2px rgba(60, 64, 67, 0.3), 0px 1px 3px 1px rgba(60, 64, 67, 0.15);\n",
              "      fill: #174EA6;\n",
              "    }\n",
              "\n",
              "    [theme=dark] .colab-df-convert {\n",
              "      background-color: #3B4455;\n",
              "      fill: #D2E3FC;\n",
              "    }\n",
              "\n",
              "    [theme=dark] .colab-df-convert:hover {\n",
              "      background-color: #434B5C;\n",
              "      box-shadow: 0px 1px 3px 1px rgba(0, 0, 0, 0.15);\n",
              "      filter: drop-shadow(0px 1px 2px rgba(0, 0, 0, 0.3));\n",
              "      fill: #FFFFFF;\n",
              "    }\n",
              "  </style>\n",
              "\n",
              "      <script>\n",
              "        const buttonEl =\n",
              "          document.querySelector('#df-44f0805f-dac2-48fe-a48e-6a3e97011ed3 button.colab-df-convert');\n",
              "        buttonEl.style.display =\n",
              "          google.colab.kernel.accessAllowed ? 'block' : 'none';\n",
              "\n",
              "        async function convertToInteractive(key) {\n",
              "          const element = document.querySelector('#df-44f0805f-dac2-48fe-a48e-6a3e97011ed3');\n",
              "          const dataTable =\n",
              "            await google.colab.kernel.invokeFunction('convertToInteractive',\n",
              "                                                     [key], {});\n",
              "          if (!dataTable) return;\n",
              "\n",
              "          const docLinkHtml = 'Like what you see? Visit the ' +\n",
              "            '<a target=\"_blank\" href=https://colab.research.google.com/notebooks/data_table.ipynb>data table notebook</a>'\n",
              "            + ' to learn more about interactive tables.';\n",
              "          element.innerHTML = '';\n",
              "          dataTable['output_type'] = 'display_data';\n",
              "          await google.colab.output.renderOutput(dataTable, element);\n",
              "          const docLink = document.createElement('div');\n",
              "          docLink.innerHTML = docLinkHtml;\n",
              "          element.appendChild(docLink);\n",
              "        }\n",
              "      </script>\n",
              "    </div>\n",
              "  </div>\n",
              "  "
            ]
          },
          "metadata": {},
          "execution_count": 27
        }
      ],
      "source": [
        "## Display our training Dataframe \n",
        "train_df.head()"
      ]
    },
    {
      "cell_type": "code",
      "execution_count": 28,
      "metadata": {
        "colab": {
          "base_uri": "https://localhost:8080/",
          "height": 198
        },
        "id": "p9IK03oTNCR6",
        "outputId": "edf58598-19e8-4953-fe90-f02cc0cd2954"
      },
      "outputs": [
        {
          "output_type": "display_data",
          "data": {
            "text/plain": [
              "<Figure size 432x288 with 1 Axes>"
            ],
            "image/png": "[encoded data removed]"
          },
          "metadata": {
            "needs_background": "light"
          }
        }
      ],
      "source": [
        "text6052 = ' '.join(train_df['Sentence'])\n",
        "wordcloud2 = WordCloud().generate(text6052)\n",
        "# Generate plot\n",
        "plt.imshow(wordcloud2)\n",
        "plt.axis(\"off\")\n",
        "plt.show()"
      ]
    },
    {
      "cell_type": "code",
      "execution_count": 29,
      "metadata": {
        "id": "KWyRNSItN0ls"
      },
      "outputs": [],
      "source": [
        "## drop the NAN Values from the dataframe\n",
        "train_df.dropna(subset = ['polarity'], inplace = True)"
      ]
    },
    {
      "cell_type": "code",
      "execution_count": 30,
      "metadata": {
        "colab": {
          "base_uri": "https://localhost:8080/"
        },
        "id": "nIDfaBk_N5RD",
        "outputId": "6897300c-fb3e-4f7f-fcf5-6e0e38fe39e8"
      },
      "outputs": [
        {
          "output_type": "execute_result",
          "data": {
            "text/plain": [
              "Sentence       0\n",
              "Aspect Term    0\n",
              "polarity       0\n",
              "dtype: int64"
            ]
          },
          "metadata": {},
          "execution_count": 30
        }
      ],
      "source": [
        "## Verify if the dataframe contains any NAN Values\n",
        "train_df.isna().sum()\n"
      ]
    },
    {
      "cell_type": "code",
      "execution_count": 31,
      "metadata": {
        "id": "OLai0x9gOAbE"
      },
      "outputs": [],
      "source": [
        "## Split the Dataset into Training and Testing Datasets\n",
        "X_train, X_test, y_train, y_test = train_test_split(train_df,train_df['polarity'],stratify=train_df['polarity'], test_size=0.2, random_state=1)\n"
      ]
    },
    {
      "cell_type": "code",
      "execution_count": 32,
      "metadata": {
        "colab": {
          "base_uri": "https://localhost:8080/"
        },
        "id": "0IQf8aC1OGcQ",
        "outputId": "3e12748b-3be7-4dbe-98ce-5f7ffadf0de5"
      },
      "outputs": [
        {
          "output_type": "execute_result",
          "data": {
            "text/plain": [
              "4732"
            ]
          },
          "metadata": {},
          "execution_count": 32
        }
      ],
      "source": [
        "# the size of the training dataset\n",
        "X_train.Sentence.size\n"
      ]
    },
    {
      "cell_type": "code",
      "execution_count": 33,
      "metadata": {
        "colab": {
          "base_uri": "https://localhost:8080/"
        },
        "id": "r9Dcr87yOUqM",
        "outputId": "865d9ee5-ea84-4978-8a30-42501439a87b"
      },
      "outputs": [
        {
          "output_type": "execute_result",
          "data": {
            "text/plain": [
              "(4732,)"
            ]
          },
          "metadata": {},
          "execution_count": 33
        }
      ],
      "source": [
        "# Display the shape of the target values!\n",
        "y_train.shape"
      ]
    },
    {
      "cell_type": "code",
      "execution_count": 34,
      "metadata": {
        "id": "WTW9JTnUOaSJ"
      },
      "outputs": [],
      "source": [
        "NUM_WORDS = 100000 ## MAx of words to keep, based on word frequency.\n",
        "EMBEDDING_SIZE = 128 ## the length of the Vector the will "
      ]
    },
    {
      "cell_type": "markdown",
      "metadata": {
        "id": "kAn0FmjmPli3"
      },
      "source": [
        "EMBEDDING CODE\n"
      ]
    },
    {
      "cell_type": "code",
      "execution_count": 35,
      "metadata": {
        "id": "Y4pEKnPHPrAy"
      },
      "outputs": [],
      "source": [
        "tokenizer = Tokenizer(num_words=NUM_WORDS,\n",
        "                      filters='!\"#$%&()*+,-./:;<=>?@[\\\\]^_`{|}~\\t\\n',\n",
        "                      lower=True, )\n",
        "## Fit_on_texts : Updates internal vocabulary based on a list of texts.\n",
        "tokenizer.fit_on_texts(list(X_train.Sentence))\n",
        "text_X_train_tokenized = tokenizer.texts_to_sequences(X_train.Sentence) # list of tokenized sentences\n",
        "Aspect_X_train_tokenized = tokenizer.texts_to_sequences(X_train['Aspect Term']) # list of tokenized sentences\n",
        "text_X_test_tokenized = tokenizer.texts_to_sequences(X_test.Sentence) # list of tokenized sentences\n",
        "Aspect_X_test_tokenized = tokenizer.texts_to_sequences(X_test['Aspect Term']) # list of tokenized sentences"
      ]
    },
    {
      "cell_type": "code",
      "execution_count": 36,
      "metadata": {
        "colab": {
          "base_uri": "https://localhost:8080/"
        },
        "id": "YO--wCJkPwO_",
        "outputId": "6e92bdb1-3c05-4bcd-db62-1ec9745ef295"
      },
      "outputs": [
        {
          "output_type": "execute_result",
          "data": {
            "text/plain": [
              "77"
            ]
          },
          "metadata": {},
          "execution_count": 36
        }
      ],
      "source": [
        "##Maximum length of sentences\n",
        "Max_Len =  max([len(one_title) for one_title in text_X_train_tokenized])\n",
        "Max_Len"
      ]
    },
    {
      "cell_type": "code",
      "execution_count": 37,
      "metadata": {
        "id": "Ze7kmoztSOvs"
      },
      "outputs": [],
      "source": [
        "## Pads sequences(or sentences) to the same length.\n",
        "\n",
        "\n",
        "text_X_train_padded = pad_sequences(text_X_train_tokenized, maxlen=Max_Len)\n",
        "aspect_X_train_padded = pad_sequences(Aspect_X_train_tokenized, maxlen=1)\n",
        "\n",
        "text_X_test_padded = pad_sequences(text_X_test_tokenized, maxlen=Max_Len)\n",
        "aspect_X_test_padded = pad_sequences(Aspect_X_test_tokenized, maxlen=1)\n"
      ]
    },
    {
      "cell_type": "code",
      "execution_count": 38,
      "metadata": {
        "colab": {
          "base_uri": "https://localhost:8080/"
        },
        "id": "eucaP7mKSVRp",
        "outputId": "c1afbaf2-85db-4bd8-f048-5055a765faf4"
      },
      "outputs": [
        {
          "output_type": "execute_result",
          "data": {
            "text/plain": [
              "array([77], dtype=int32)"
            ]
          },
          "metadata": {},
          "execution_count": 38
        }
      ],
      "source": [
        "## the embedding presentation of the aspects\n",
        "aspect_X_train_padded[0]\n"
      ]
    },
    {
      "cell_type": "code",
      "execution_count": 39,
      "metadata": {
        "colab": {
          "base_uri": "https://localhost:8080/"
        },
        "id": "qTaw5m3ySaOn",
        "outputId": "3acd66aa-7c5a-41fe-8166-26d2244c2ccb"
      },
      "outputs": [
        {
          "output_type": "execute_result",
          "data": {
            "text/plain": [
              "array([  0,   0,   0,   0,   0,   0,   0,   0,   0,   0,   0,   0,   0,\n",
              "         0,   0,   0,   0,   0,   0,   0,   0,   0,   0,   0,   0,   0,\n",
              "         0,   0,   0,   0,   0,   0,   0,   0,   0,   0,   0,   0,   0,\n",
              "         0,   0,   0,   0,   0,   0,   0,   0,   0,   0,   0,   0,   0,\n",
              "         0,   0,   0,   0,   0,   0,   0,   0,   0,   0,   0,   0,   0,\n",
              "         0, 168,  63,   1,  77, 262,  19, 263,  26, 269,  30,  35],\n",
              "      dtype=int32)"
            ]
          },
          "metadata": {},
          "execution_count": 39
        }
      ],
      "source": [
        "## the embedding presentation of the Sentences\n",
        "\n",
        "text_X_train_padded[0]"
      ]
    },
    {
      "cell_type": "code",
      "execution_count": 40,
      "metadata": {
        "id": "FHkB3vnMSh6_"
      },
      "outputs": [],
      "source": [
        "## Concatenate the Embedding presentation of the sentences and aspects to Create training and testing dataset \n",
        "train_data =  [text_X_train_padded,aspect_X_train_padded]\n",
        "test_data =   [text_X_test_padded,aspect_X_test_padded]"
      ]
    },
    {
      "cell_type": "code",
      "execution_count": 41,
      "metadata": {
        "colab": {
          "base_uri": "https://localhost:8080/"
        },
        "id": "lE6E2ZtESn7F",
        "outputId": "6fb1c1b1-2f1a-422e-9544-7057a6cbdbbe"
      },
      "outputs": [
        {
          "output_type": "execute_result",
          "data": {
            "text/plain": [
              "array([728], dtype=int32)"
            ]
          },
          "metadata": {},
          "execution_count": 41
        }
      ],
      "source": [
        "test_data[1][0]"
      ]
    },
    {
      "cell_type": "markdown",
      "metadata": {
        "id": "E7nOKL9WSvCG"
      },
      "source": [
        "Attention Mechanism\n"
      ]
    },
    {
      "cell_type": "code",
      "execution_count": 42,
      "metadata": {
        "id": "o9yGwva5SyNh"
      },
      "outputs": [],
      "source": [
        "# modified based on `https://gist.github.com/cbaziotis/7ef97ccf71cbc14366835198c09809d2`\n",
        "class Attention(Layer):\n",
        "    \"\"\"\n",
        "    Attention operation, with a context/query vector, for temporal data.\n",
        "    Supports Masking.\n",
        "    Follows the work of Yang et al. [https://www.cs.cmu.edu/~diyiy/docs/naacl16.pdf]\n",
        "    \"Hierarchical Attention Networks for Document Classification\"\n",
        "    by using a context vector to assist the attention\n",
        "    # Input shape\n",
        "        3D tensor with shape: `(samples, steps, features)`.\n",
        "    # Output shape\n",
        "        2D tensor with shape: `(samples, features)`.\n",
        "    How to use:\n",
        "    Just put it on top of an RNN Layer (GRU/LSTM/SimpleRNN) with return_sequences=True.\n",
        "    The dimensions are inferred based on the output shape of the RNN.\n",
        " e: The layer has been tested with Keras 2.0.6\n",
        "    Example:\n",
        "        model.add(LSTM(64, return_sequences=True))\n",
        "        model.add(AttentionWithContext())\n",
        "        # next add a Dense layer (for classification/regression) or whatever...\n",
        "    \"\"\"\n",
        "\n",
        "    def __init__(self, W_regularizer=None, u_regularizer=None, b_regularizer=None, W_constraint=None,\n",
        "                 u_constraint=None, b_constraint=None, use_W=True, use_bias=False, return_self_attend=False,\n",
        "                 return_attend_weight=True, **kwargs):\n",
        "        self.supports_masking = True\n",
        "\n",
        "        self.init = initializers.get('glorot_uniform')\n",
        "\n",
        "        self.W_regularizer = regularizers.get(W_regularizer)\n",
        "        self.u_regularizer = regularizers.get(u_regularizer)\n",
        "        self.b_regularizer = regularizers.get(b_regularizer)\n",
        "\n",
        "        self.W_constraint = constraints.get(W_constraint)\n",
        "        self.u_constraint = constraints.get(u_constraint)\n",
        "        self.b_constraint = constraints.get(b_constraint)\n",
        "\n",
        "        self.use_W = use_W\n",
        "        self.use_bias = use_bias\n",
        "        self.return_self_attend = return_self_attend    # whether perform self attention and return it\n",
        "        self.return_attend_weight = return_attend_weight    # whether return attention weight\n",
        "        super(Attention, self).__init__(**kwargs)\n",
        "\n",
        "    def build(self, input_shape):\n",
        "        assert len(input_shape) == 3\n",
        "\n",
        "        if self.use_W:\n",
        "            self.W = self.add_weight(shape=(input_shape[-1], input_shape[-1],),  initializer=self.init,\n",
        "                                     name='{}_W'.format(self.name), regularizer=self.W_regularizer,\n",
        "                                     constraint=self.W_constraint)\n",
        "        if self.use_bias:\n",
        "            self.b = self.add_weight(shape=(input_shape[1],), initializer='zero', name='{}_b'.format(self.name),\n",
        "                                     regularizer=self.b_regularizer, constraint=self.b_constraint)\n",
        "\n",
        "        self.u = self.add_weight(shape=(input_shape[-1],), initializer=self.init, name='{}_u'.format(self.name),\n",
        "                                 regularizer=self.u_regularizer, constraint=self.u_constraint)\n",
        "        \n",
        "        super(Attention, self).build(input_shape)\n",
        "\n",
        "    def compute_mask(self, input, input_mask=None):\n",
        "        # do not pass the mask to the next layers\n",
        "        return None\n",
        "\n",
        "    def call(self, x, mask=None):\n",
        "        if self.use_W:\n",
        "            x = K.tanh(K.dot(x, self.W))\n",
        "\n",
        "        ait = Attention.dot_product(x, self.u)\n",
        "        if self.use_bias:\n",
        "            ait += self.b\n",
        "\n",
        "        a = K.exp(ait)\n",
        "\n",
        "        # apply mask after the exp. will be re-normalized next\n",
        "        if mask is not None:\n",
        "            # Cast the mask to floatX to avoid float64 upcasting in theano\n",
        "            a *= K.cast(mask, K.floatx())\n",
        "\n",
        "        # in some cases especially in the early stages of training the sum may be almost zero\n",
        "        # and this results in NaN's. A workaround is to add a very small positive number ε to the sum.\n",
        "        # a /= K.cast(K.sum(a, axis=1, keepdims=True), K.floatx())\n",
        "        a /= K.cast(K.sum(a, axis=1, keepdims=True) + K.epsilon(), K.floatx())\n",
        "\n",
        "        if self.return_self_attend:\n",
        "            attend_output = K.sum(x * K.expand_dims(a), axis=1)\n",
        "            if self.return_attend_weight:\n",
        "                return [attend_output, a]\n",
        "            else:\n",
        "                return attend_output\n",
        "        else:\n",
        "            return a\n",
        "\n",
        "    def compute_output_shape(self, input_shape):\n",
        "        if self.return_self_attend:\n",
        "            if self.return_attend_weight:\n",
        "                return [(input_shape[0], input_shape[-1]), (input_shape[0], input_shape[1])]\n",
        "            else:\n",
        "                return input_shape[0], input_shape[-1]\n",
        "        else:\n",
        "            return input_shape[0], input_shape[1]\n",
        "\n",
        "    @staticmethod\n",
        "    def dot_product(x, kernel):\n",
        "        \"\"\"\n",
        "        Wrapper for dot product operation, in order to be compatible with both\n",
        "        Theano and Tensorflow\n",
        "        Args:\n",
        "            x (): input\n",
        "            kernel (): weights\n",
        "        Returns:\n",
        "        \"\"\"\n",
        "        if K.backend() == 'tensorflow':\n",
        "            return K.squeeze(K.dot(x, K.expand_dims(kernel)), axis=-1)\n",
        "        else:\n",
        "            return K.dot(x, kernel)\n"
      ]
    },
    {
      "cell_type": "markdown",
      "metadata": {
        "id": "kH_annoXTQtm"
      },
      "source": [
        "LSTM with Aspect Embedding¶\n",
        "\n"
      ]
    },
    {
      "cell_type": "code",
      "execution_count": 43,
      "metadata": {
        "id": "bSXGD0P_TTEM"
      },
      "outputs": [],
      "source": [
        "def ae_lstm(lstm_units = 512):\n",
        "    input_text = Input(shape=(Max_Len,))\n",
        "    input_aspect = Input(shape=(1,),)\n",
        "    \n",
        "    word_embedding = Embedding(NUM_WORDS, EMBEDDING_SIZE, input_length=Max_Len)\n",
        "    text_embed = SpatialDropout1D(0.2)(word_embedding(input_text))\n",
        "    \n",
        "    asp_embedding = Embedding(NUM_WORDS, EMBEDDING_SIZE, input_length=Max_Len)\n",
        "    aspect_embed = asp_embedding(input_aspect)\n",
        "    \n",
        "    \n",
        "    aspect_embed = Flatten()(aspect_embed)  # reshape to 2d\n",
        "    repeat_aspect = RepeatVector(Max_Len)(aspect_embed)  # repeat aspect for every word in sequence\n",
        "\n",
        "    input_concat = concatenate([text_embed, repeat_aspect], axis=-1)\n",
        "    hidden = LSTM(lstm_units)(input_concat)\n",
        "    Dense_layer  = Dense(128, activation='relu')(hidden)\n",
        "    output_layer = Dense(3, activation='softmax')(Dense_layer)\n",
        "    return Model([input_text, input_aspect], output_layer)"
      ]
    },
    {
      "cell_type": "code",
      "execution_count": 44,
      "metadata": {
        "colab": {
          "base_uri": "https://localhost:8080/"
        },
        "id": "XgFkjSWBTkCV",
        "outputId": "eff10fe0-637b-49d4-9260-b5bbf855e4b3"
      },
      "outputs": [
        {
          "output_type": "stream",
          "name": "stdout",
          "text": [
            "Model: \"model\"\n",
            "__________________________________________________________________________________________________\n",
            " Layer (type)                   Output Shape         Param #     Connected to                     \n",
            "==================================================================================================\n",
            " input_2 (InputLayer)           [(None, 1)]          0           []                               \n",
            "                                                                                                  \n",
            " input_1 (InputLayer)           [(None, 77)]         0           []                               \n",
            "                                                                                                  \n",
            " embedding_1 (Embedding)        (None, 1, 128)       12800000    ['input_2[0][0]']                \n",
            "                                                                                                  \n",
            " embedding (Embedding)          (None, 77, 128)      12800000    ['input_1[0][0]']                \n",
            "                                                                                                  \n",
            " flatten (Flatten)              (None, 128)          0           ['embedding_1[0][0]']            \n",
            "                                                                                                  \n",
            " spatial_dropout1d (SpatialDrop  (None, 77, 128)     0           ['embedding[0][0]']              \n",
            " out1D)                                                                                           \n",
            "                                                                                                  \n",
            " repeat_vector (RepeatVector)   (None, 77, 128)      0           ['flatten[0][0]']                \n",
            "                                                                                                  \n",
            " concatenate (Concatenate)      (None, 77, 256)      0           ['spatial_dropout1d[0][0]',      \n",
            "                                                                  'repeat_vector[0][0]']          \n",
            "                                                                                                  \n",
            " lstm (LSTM)                    (None, 512)          1574912     ['concatenate[0][0]']            \n",
            "                                                                                                  \n",
            " dense (Dense)                  (None, 128)          65664       ['lstm[0][0]']                   \n",
            "                                                                                                  \n",
            " dense_1 (Dense)                (None, 3)            387         ['dense[0][0]']                  \n",
            "                                                                                                  \n",
            "==================================================================================================\n",
            "Total params: 27,240,963\n",
            "Trainable params: 27,240,963\n",
            "Non-trainable params: 0\n",
            "__________________________________________________________________________________________________\n"
          ]
        }
      ],
      "source": [
        "ae_lstm_model = ae_lstm()\n",
        "ae_lstm_model.summary()"
      ]
    },
    {
      "cell_type": "code",
      "execution_count": 45,
      "metadata": {
        "colab": {
          "base_uri": "https://localhost:8080/",
          "height": 865
        },
        "id": "4mEHSKh9U4CF",
        "outputId": "ad6a5543-b533-489a-8761-af2d52faedb8"
      },
      "outputs": [
        {
          "output_type": "execute_result",
          "data": {
            "image/png": "[encoded data removed]",
            "text/plain": [
              "<IPython.core.display.Image object>"
            ]
          },
          "metadata": {},
          "execution_count": 45
        }
      ],
      "source": [
        "dot_img_file = 'model_1.png'\n",
        "tf.keras.utils.plot_model(ae_lstm_model, to_file=dot_img_file, show_shapes=True)\n"
      ]
    },
    {
      "cell_type": "code",
      "execution_count": 46,
      "metadata": {
        "colab": {
          "base_uri": "https://localhost:8080/"
        },
        "id": "C474vSEmVklj",
        "outputId": "32e541a9-c68c-4f72-d7a9-693043b294cb"
      },
      "outputs": [
        {
          "output_type": "execute_result",
          "data": {
            "text/plain": [
              "4732"
            ]
          },
          "metadata": {},
          "execution_count": 46
        }
      ],
      "source": [
        "y_train.size\n"
      ]
    },
    {
      "cell_type": "markdown",
      "metadata": {
        "id": "-akPj7vBVrqK"
      },
      "source": [
        "learning_rate_reduction = ReduceLROnPlateau(monitor='val_accuracy',\n",
        "                                                    patience = 1,\n",
        "                                                    verbose=1,\n",
        "                                                    factor=0.1,\n",
        "                                                    min_lr=0.000001)\n",
        "from tensorflow import keras\n",
        "\n",
        "opt = keras.optimizers.Adam(learning_rate=0.01)\n",
        "\n",
        "ae_lstm_model.compile(loss='sparse_categorical_crossentropy', metrics=['accuracy'], optimizer=opt)\n",
        "history =  ae_lstm_model.fit(x = train_data, y = y_train,validation_data = (test_data, y_test), batch_size=16, epochs=20, callbacks = [learning_rate_reduction])\n"
      ]
    },
    {
      "cell_type": "code",
      "execution_count": 47,
      "metadata": {
        "colab": {
          "base_uri": "https://localhost:8080/"
        },
        "id": "QH_M56Ac1m0e",
        "outputId": "d85cedb2-8d3e-45fa-8fa2-b1cd7a18bd92"
      },
      "outputs": [
        {
          "output_type": "stream",
          "name": "stdout",
          "text": [
            "Epoch 1/20\n",
            "296/296 [==============================] - 381s 1s/step - loss: 1.0364 - accuracy: 0.5357 - val_loss: 0.9177 - val_accuracy: 0.5740 - lr: 0.0100\n",
            "Epoch 2/20\n",
            "296/296 [==============================] - 356s 1s/step - loss: 0.8417 - accuracy: 0.6283 - val_loss: 0.9091 - val_accuracy: 0.5850 - lr: 0.0100\n",
            "Epoch 3/20\n",
            "296/296 [==============================] - 353s 1s/step - loss: 0.7063 - accuracy: 0.6904 - val_loss: 0.9065 - val_accuracy: 0.6162 - lr: 0.0100\n",
            "Epoch 4/20\n",
            "296/296 [==============================] - ETA: 0s - loss: 0.6137 - accuracy: 0.7246\n",
            "Epoch 4: ReduceLROnPlateau reducing learning rate to 0.0009999999776482583.\n",
            "296/296 [==============================] - 352s 1s/step - loss: 0.6137 - accuracy: 0.7246 - val_loss: 0.9471 - val_accuracy: 0.6069 - lr: 0.0100\n",
            "Epoch 5/20\n",
            "296/296 [==============================] - 353s 1s/step - loss: 0.4720 - accuracy: 0.7950 - val_loss: 0.9803 - val_accuracy: 0.6221 - lr: 1.0000e-03\n",
            "Epoch 6/20\n",
            "296/296 [==============================] - 357s 1s/step - loss: 0.4075 - accuracy: 0.8311 - val_loss: 1.0041 - val_accuracy: 0.6298 - lr: 1.0000e-03\n",
            "Epoch 7/20\n",
            "296/296 [==============================] - 358s 1s/step - loss: 0.3594 - accuracy: 0.8571 - val_loss: 1.0869 - val_accuracy: 0.6382 - lr: 1.0000e-03\n",
            "Epoch 8/20\n",
            "296/296 [==============================] - 359s 1s/step - loss: 0.3182 - accuracy: 0.8762 - val_loss: 1.0971 - val_accuracy: 0.6484 - lr: 1.0000e-03\n",
            "Epoch 9/20\n",
            "296/296 [==============================] - ETA: 0s - loss: 0.2725 - accuracy: 0.8986\n",
            "Epoch 9: ReduceLROnPlateau reducing learning rate to 9.999999310821295e-05.\n",
            "296/296 [==============================] - 356s 1s/step - loss: 0.2725 - accuracy: 0.8986 - val_loss: 1.1456 - val_accuracy: 0.6475 - lr: 1.0000e-03\n",
            "Epoch 10/20\n",
            "296/296 [==============================] - 355s 1s/step - loss: 0.2287 - accuracy: 0.9235 - val_loss: 1.1575 - val_accuracy: 0.6526 - lr: 1.0000e-04\n",
            "Epoch 11/20\n",
            "296/296 [==============================] - 357s 1s/step - loss: 0.2142 - accuracy: 0.9279 - val_loss: 1.1786 - val_accuracy: 0.6577 - lr: 1.0000e-04\n",
            "Epoch 12/20\n",
            "296/296 [==============================] - 355s 1s/step - loss: 0.2069 - accuracy: 0.9286 - val_loss: 1.2004 - val_accuracy: 0.6602 - lr: 1.0000e-04\n",
            "Epoch 13/20\n",
            "296/296 [==============================] - ETA: 0s - loss: 0.2004 - accuracy: 0.9315\n",
            "Epoch 13: ReduceLROnPlateau reducing learning rate to 9.999999019782991e-06.\n",
            "296/296 [==============================] - 358s 1s/step - loss: 0.2004 - accuracy: 0.9315 - val_loss: 1.2121 - val_accuracy: 0.6568 - lr: 1.0000e-04\n",
            "Epoch 14/20\n",
            "296/296 [==============================] - ETA: 0s - loss: 0.1923 - accuracy: 0.9355\n",
            "Epoch 14: ReduceLROnPlateau reducing learning rate to 1e-06.\n",
            "296/296 [==============================] - 358s 1s/step - loss: 0.1923 - accuracy: 0.9355 - val_loss: 1.2141 - val_accuracy: 0.6577 - lr: 1.0000e-05\n",
            "Epoch 15/20\n",
            "296/296 [==============================] - 357s 1s/step - loss: 0.1917 - accuracy: 0.9362 - val_loss: 1.2143 - val_accuracy: 0.6577 - lr: 1.0000e-06\n",
            "Epoch 16/20\n",
            "296/296 [==============================] - 358s 1s/step - loss: 0.1898 - accuracy: 0.9362 - val_loss: 1.2145 - val_accuracy: 0.6577 - lr: 1.0000e-06\n",
            "Epoch 17/20\n",
            "296/296 [==============================] - 358s 1s/step - loss: 0.1891 - accuracy: 0.9383 - val_loss: 1.2147 - val_accuracy: 0.6577 - lr: 1.0000e-06\n",
            "Epoch 18/20\n",
            "296/296 [==============================] - 361s 1s/step - loss: 0.1910 - accuracy: 0.9366 - val_loss: 1.2149 - val_accuracy: 0.6577 - lr: 1.0000e-06\n",
            "Epoch 19/20\n",
            "296/296 [==============================] - 355s 1s/step - loss: 0.1902 - accuracy: 0.9368 - val_loss: 1.2152 - val_accuracy: 0.6577 - lr: 1.0000e-06\n",
            "Epoch 20/20\n",
            "296/296 [==============================] - 360s 1s/step - loss: 0.1933 - accuracy: 0.9328 - val_loss: 1.2154 - val_accuracy: 0.6577 - lr: 1.0000e-06\n"
          ]
        }
      ],
      "source": [
        "learning_rate_reduction = ReduceLROnPlateau(monitor='val_accuracy',\n",
        "                                                    patience = 1,\n",
        "                                                    verbose=1,\n",
        "                                                    factor=0.1,\n",
        "                                                    min_lr=0.000001)\n",
        "from tensorflow import keras\n",
        "\n",
        "opt = keras.optimizers.Adam(learning_rate=0.01)\n",
        "\n",
        "ae_lstm_model.compile(loss='sparse_categorical_crossentropy', metrics=['accuracy'], optimizer=opt)\n",
        "history =  ae_lstm_model.fit(x = train_data, y = y_train,validation_data = (test_data, y_test), batch_size=16, epochs=20, callbacks = [learning_rate_reduction])\n"
      ]
    },
    {
      "cell_type": "code",
      "execution_count": 48,
      "metadata": {
        "id": "S5hv339CQ-Nh",
        "colab": {
          "base_uri": "https://localhost:8080/"
        },
        "outputId": "f06d2bd9-8096-4a6c-fae7-2233c1136bec"
      },
      "outputs": [
        {
          "output_type": "execute_result",
          "data": {
            "text/plain": [
              "(77,)"
            ]
          },
          "metadata": {},
          "execution_count": 48
        }
      ],
      "source": [
        "text_X_test_padded[6].shape\n"
      ]
    },
    {
      "cell_type": "code",
      "execution_count": 49,
      "metadata": {
        "id": "kq51eIGIRD1l",
        "colab": {
          "base_uri": "https://localhost:8080/"
        },
        "outputId": "35ca2a44-c27e-40fe-a9f4-ea6bf5a2f217"
      },
      "outputs": [
        {
          "output_type": "stream",
          "name": "stdout",
          "text": [
            "(1, 77)\n",
            "1/1 [==============================] - 1s 735ms/step\n"
          ]
        },
        {
          "output_type": "execute_result",
          "data": {
            "text/plain": [
              "array([[0.5378843, 0.00887  , 0.4532457]], dtype=float32)"
            ]
          },
          "metadata": {},
          "execution_count": 49
        }
      ],
      "source": [
        "val_data =   [text_X_test_padded[6].reshape(1,Max_Len),aspect_X_test_padded[6]]\n",
        "print(val_data[0].shape)\n",
        "ae_lstm_model.predict(val_data)\n"
      ]
    },
    {
      "cell_type": "code",
      "execution_count": 50,
      "metadata": {
        "id": "gLYf-gq9R0N8"
      },
      "outputs": [],
      "source": [
        "from sklearn.metrics import ConfusionMatrixDisplay\n",
        "from sklearn.metrics import confusion_matrix"
      ]
    },
    {
      "cell_type": "code",
      "execution_count": 51,
      "metadata": {
        "id": "HM6GtnvjR9rR",
        "colab": {
          "base_uri": "https://localhost:8080/"
        },
        "outputId": "7fce8aa8-1883-481f-86fc-df5e360adcdc"
      },
      "outputs": [
        {
          "output_type": "stream",
          "name": "stdout",
          "text": [
            "Evaluate on test data\n",
            "37/37 [==============================] - 10s 261ms/step - loss: 1.2154 - accuracy: 0.6577\n",
            "test loss, test acc: [1.2153959274291992, 0.6576500535011292]\n",
            "Accuracy of the model is -  65.76500535011292 %\n"
          ]
        }
      ],
      "source": [
        "print(\"Evaluate on test data\")\n",
        "results = ae_lstm_model.evaluate(x = test_data , y = y_test )\n",
        "print(\"test loss, test acc:\", results)\n",
        "print(\"Accuracy of the model is - \" , results[1]*100 , \"%\")"
      ]
    },
    {
      "cell_type": "code",
      "execution_count": 52,
      "metadata": {
        "id": "2kLp5527SI40",
        "colab": {
          "base_uri": "https://localhost:8080/",
          "height": 281
        },
        "outputId": "e1d40674-e4b3-4fb9-d0ab-0ca8dfe35d44"
      },
      "outputs": [
        {
          "output_type": "display_data",
          "data": {
            "text/plain": [
              "<Figure size 432x288 with 2 Axes>"
            ],
            "image/png": "[encoded data removed]"
          },
          "metadata": {
            "needs_background": "light"
          }
        }
      ],
      "source": [
        "from matplotlib import pyplot\n",
        "\n",
        "# plot loss during training\n",
        "pyplot.subplot(211)\n",
        "pyplot.title('Loss')\n",
        "pyplot.plot(history.history['loss'], label='train')\n",
        "pyplot.plot(history.history['val_loss'], label='test')\n",
        "pyplot.legend()\n",
        "# plot accuracy during training\n",
        "pyplot.subplot(212)\n",
        "pyplot.title('Accuracy')\n",
        "pyplot.plot(history.history['accuracy'], label='train')\n",
        "pyplot.plot(history.history['val_accuracy'], label='test')\n",
        "pyplot.legend()\n",
        "pyplot.show()"
      ]
    },
    {
      "cell_type": "markdown",
      "metadata": {
        "id": "8MpDPOVGSpSl"
      },
      "source": [
        "Attention-based LSTM (AT-LSTM)¶\n",
        "\n"
      ]
    },
    {
      "cell_type": "code",
      "execution_count": 53,
      "metadata": {
        "id": "pyhedph8SrB1",
        "colab": {
          "base_uri": "https://localhost:8080/"
        },
        "outputId": "e72a650e-30c4-43bc-912a-65747cac609e"
      },
      "outputs": [
        {
          "output_type": "stream",
          "name": "stdout",
          "text": [
            "(None, 77, 640)\n",
            "Model: \"model_1\"\n",
            "__________________________________________________________________________________________________\n",
            " Layer (type)                   Output Shape         Param #     Connected to                     \n",
            "==================================================================================================\n",
            " input_3 (InputLayer)           [(None, 77)]         0           []                               \n",
            "                                                                                                  \n",
            " input_4 (InputLayer)           [(None, 1)]          0           []                               \n",
            "                                                                                                  \n",
            " embedding_2 (Embedding)        (None, 77, 128)      12800000    ['input_3[0][0]']                \n",
            "                                                                                                  \n",
            " embedding_3 (Embedding)        (None, 1, 128)       12800000    ['input_4[0][0]']                \n",
            "                                                                                                  \n",
            " spatial_dropout1d_1 (SpatialDr  (None, 77, 128)     0           ['embedding_2[0][0]']            \n",
            " opout1D)                                                                                         \n",
            "                                                                                                  \n",
            " flatten_1 (Flatten)            (None, 128)          0           ['embedding_3[0][0]']            \n",
            "                                                                                                  \n",
            " lstm_1 (LSTM)                  (None, 77, 512)      1312768     ['spatial_dropout1d_1[0][0]']    \n",
            "                                                                                                  \n",
            " repeat_vector_1 (RepeatVector)  (None, 77, 128)     0           ['flatten_1[0][0]']              \n",
            "                                                                                                  \n",
            " concatenate_1 (Concatenate)    (None, 77, 640)      0           ['lstm_1[0][0]',                 \n",
            "                                                                  'repeat_vector_1[0][0]']        \n",
            "                                                                                                  \n",
            " attention (Attention)          (None, 77)           410240      ['concatenate_1[0][0]']          \n",
            "                                                                                                  \n",
            " lambda (Lambda)                (None, 77, 1)        0           ['attention[0][0]']              \n",
            "                                                                                                  \n",
            " multiply (Multiply)            (None, 77, 512)      0           ['lstm_1[0][0]',                 \n",
            "                                                                  'lambda[0][0]']                 \n",
            "                                                                                                  \n",
            " lambda_1 (Lambda)              (None, 512)          0           ['multiply[0][0]']               \n",
            "                                                                                                  \n",
            " dense_2 (Dense)                (None, 128)          65664       ['lambda_1[0][0]']               \n",
            "                                                                                                  \n",
            " dense_3 (Dense)                (None, 3)            387         ['dense_2[0][0]']                \n",
            "                                                                                                  \n",
            "==================================================================================================\n",
            "Total params: 27,389,059\n",
            "Trainable params: 27,389,059\n",
            "Non-trainable params: 0\n",
            "__________________________________________________________________________________________________\n"
          ]
        }
      ],
      "source": [
        "def at_lstm(lstm_units = 512):\n",
        "        input_text = Input(shape=(Max_Len,))\n",
        "        input_aspect = Input(shape=(1,),)\n",
        "        \n",
        "        word_embedding = Embedding(NUM_WORDS, EMBEDDING_SIZE, input_length=Max_Len)\n",
        "        text_embed = SpatialDropout1D(0.2)(word_embedding(input_text))\n",
        "    \n",
        "        asp_embedding = Embedding(NUM_WORDS, EMBEDDING_SIZE, input_length=Max_Len)\n",
        "        aspect_embed = asp_embedding(input_aspect)\n",
        "        aspect_embed = Flatten()(aspect_embed)  # reshape to 2d\n",
        "        repeat_aspect = RepeatVector(Max_Len)(aspect_embed)  # repeat aspect for every word in sequence\n",
        "        hidden_vecs = LSTM(lstm_units, return_sequences=True)(text_embed)  # hidden vectors output by lstm\n",
        "        concat = concatenate([hidden_vecs, repeat_aspect], axis=-1)  # mask after concatenate will be same as hidden_out's mask\n",
        "        print(concat.shape)\n",
        "         # apply attention mechanism\n",
        "        attend_weight = Attention()(concat)\n",
        "        attend_weight_expand = Lambda(lambda x: K.expand_dims(x))(attend_weight)\n",
        "        attend_hidden = multiply([hidden_vecs, attend_weight_expand])\n",
        "        attend_hidden = Lambda(lambda x: K.sum(x, axis=1))(attend_hidden)\n",
        "        Dense_layer  = Dense(128, activation='relu')(attend_hidden)\n",
        "        output_layer = Dense(3, activation='softmax')(Dense_layer)\n",
        "        return Model([input_text, input_aspect], output_layer)\n",
        "at_lstm_model =  at_lstm()\n",
        "at_lstm_model.summary()\n"
      ]
    },
    {
      "cell_type": "markdown",
      "metadata": {
        "id": "BTJYV8kmS9o_"
      },
      "source": [
        "Model training"
      ]
    },
    {
      "cell_type": "code",
      "execution_count": null,
      "metadata": {
        "id": "2nl99szUTCn1"
      },
      "outputs": [],
      "source": [
        "learning_rate_reduction = ReduceLROnPlateau(monitor='val_accuracy',\n",
        "                                                    patience = 1,\n",
        "                                                    verbose=1,\n",
        "                                                    factor=0.1,\n",
        "                                                    min_lr=0.000001)\n",
        "opt = keras.optimizers.Adam(learning_rate=0.01)\n",
        "\n",
        "at_lstm_model.compile(loss='sparse_categorical_crossentropy', metrics=['accuracy'], optimizer=opt)\n",
        "at_lstm_model .fit(x = train_data, y = y_train,validation_data = (test_data, y_test), batch_size=32, epochs=10, callbacks = [learning_rate_reduction])"
      ]
    },
    {
      "cell_type": "markdown",
      "metadata": {
        "id": "R1dbjfYeZ6LA"
      },
      "source": [
        "Model Evaluation¶\n"
      ]
    },
    {
      "cell_type": "code",
      "execution_count": null,
      "metadata": {
        "id": "kvDg9olSZ53_"
      },
      "outputs": [],
      "source": [
        "val_data =   [text_X_test_padded[6].reshape(1,Max_Len),aspect_X_test_padded[6]]\n",
        "at_lstm_model.predict(val_data)\n"
      ]
    },
    {
      "cell_type": "code",
      "execution_count": null,
      "metadata": {
        "id": "GHH0bP_8nULW"
      },
      "outputs": [],
      "source": [
        "print(\"Evaluate on test data\")\n",
        "results = at_lstm_model.evaluate(x = test_data , y = y_test )\n",
        "print(\"test loss, test acc:\", results)\n",
        "print(\"Accuracy of the model is - \" , results[1]*100 , \"%\")"
      ]
    },
    {
      "cell_type": "code",
      "execution_count": null,
      "metadata": {
        "id": "xM4gw_nOnfZU"
      },
      "outputs": [],
      "source": [
        "from matplotlib import pyplot\n",
        "\n",
        "# plot loss during training\n",
        "pyplot.subplot(211)\n",
        "pyplot.title('Loss')\n",
        "pyplot.plot(history.history['loss'], label='train')\n",
        "pyplot.plot(history.history['val_loss'], label='test')\n",
        "pyplot.legend()\n",
        "# plot accuracy during training\n",
        "pyplot.subplot(212)\n",
        "pyplot.title('Accuracy')\n",
        "pyplot.plot(history.history['accuracy'], label='train')\n",
        "pyplot.plot(history.history['val_accuracy'], label='test')\n",
        "pyplot.legend()\n",
        "pyplot.show()"
      ]
    },
    {
      "cell_type": "markdown",
      "metadata": {
        "id": "HTwyyeh-nwoy"
      },
      "source": [
        "Attention-based LSTM with Aspect Embedding (ATAE-LSTM)¶\n"
      ]
    },
    {
      "cell_type": "code",
      "execution_count": null,
      "metadata": {
        "id": "1nEsC2qGnzil"
      },
      "outputs": [],
      "source": [
        "# attention-based lstm with aspect embedding\n",
        "def atae_lstm(lstm_units = 128):\n",
        "    input_text = Input(shape=(Max_Len,))\n",
        "    input_aspect = Input(shape=(1,),)\n",
        "    \n",
        "    word_embedding = Embedding(NUM_WORDS, EMBEDDING_SIZE, input_length=Max_Len)\n",
        "    text_embed = SpatialDropout1D(0.2)(word_embedding(input_text))\n",
        "\n",
        "    asp_embedding = Embedding(NUM_WORDS, EMBEDDING_SIZE, input_length=Max_Len)\n",
        "\n",
        "    aspect_embed = asp_embedding(input_aspect)\n",
        "    aspect_embed = Flatten()(aspect_embed)  # reshape to 2d\n",
        "    repeat_aspect = RepeatVector(Max_Len)(aspect_embed)  # repeat aspect for every word in sequence\n",
        "\n",
        "    input_concat = concatenate([text_embed, repeat_aspect], axis=-1)\n",
        "    print(input_concat.shape)\n",
        "    hidden_vecs, state_h, _ = LSTM(lstm_units, return_sequences=True, return_state=True)(input_concat)\n",
        "    concat = concatenate([hidden_vecs, repeat_aspect], axis=-1)\n",
        "\n",
        "    # apply attention mechanism\n",
        "    attend_weight = Attention()(concat)\n",
        "    attend_weight_expand = Lambda(lambda x: K.expand_dims(x))(attend_weight)\n",
        "    attend_hidden = multiply([hidden_vecs, attend_weight_expand])\n",
        "    attend_hidden = Lambda(lambda x: K.sum(x, axis=1))(attend_hidden)\n",
        "\n",
        "    attend_hidden_dense = Dense(lstm_units)(attend_hidden)\n",
        "    last_hidden_dense = Dense(lstm_units)(state_h)\n",
        "    final_output = Activation('tanh')(add([attend_hidden_dense, last_hidden_dense]))\n",
        "\n",
        "    return Model([input_text, input_aspect], final_output)\n",
        "atae_lstm_model =  atae_lstm()\n",
        "atae_lstm_model.summary()"
      ]
    },
    {
      "cell_type": "markdown",
      "metadata": {
        "id": "hH8oJaZ2oUfO"
      },
      "source": [
        "Model Training¶\n"
      ]
    },
    {
      "cell_type": "code",
      "execution_count": null,
      "metadata": {
        "colab": {
          "base_uri": "https://localhost:8080/"
        },
        "id": "t2KNEp2toZWf",
        "outputId": "9db3dc02-06da-46c5-bee2-9d4a29dfd1bd"
      },
      "outputs": [
        {
          "output_type": "stream",
          "name": "stdout",
          "text": [
            "Epoch 1/50\n",
            "148/148 [==============================] - 65s 417ms/step - loss: 1.1066 - accuracy: 0.5562 - val_loss: 1.0177 - val_accuracy: 0.3702 - lr: 0.0010\n",
            "Epoch 2/50\n",
            "148/148 [==============================] - 61s 413ms/step - loss: 0.9137 - accuracy: 0.6638 - val_loss: 1.4713 - val_accuracy: 0.6762 - lr: 0.0010\n",
            "Epoch 3/50\n",
            "148/148 [==============================] - ETA: 0s - loss: 0.7512 - accuracy: 0.6940\n",
            "Epoch 3: ReduceLROnPlateau reducing learning rate to 0.00010000000474974513.\n",
            "148/148 [==============================] - 61s 410ms/step - loss: 0.7512 - accuracy: 0.6940 - val_loss: 0.9378 - val_accuracy: 0.6281 - lr: 0.0010\n",
            "Epoch 4/50\n",
            "148/148 [==============================] - ETA: 0s - loss: 0.7099 - accuracy: 0.7312\n",
            "Epoch 4: ReduceLROnPlateau reducing learning rate to 1.0000000474974514e-05.\n",
            "148/148 [==============================] - 61s 410ms/step - loss: 0.7099 - accuracy: 0.7312 - val_loss: 1.3324 - val_accuracy: 0.6391 - lr: 1.0000e-04\n",
            "Epoch 5/50\n",
            "148/148 [==============================] - ETA: 0s - loss: 0.6297 - accuracy: 0.7595\n",
            "Epoch 5: ReduceLROnPlateau reducing learning rate to 1.0000000656873453e-06.\n",
            "148/148 [==============================] - 61s 411ms/step - loss: 0.6297 - accuracy: 0.7595 - val_loss: 1.4030 - val_accuracy: 0.6416 - lr: 1.0000e-05\n",
            "Epoch 6/50\n",
            "148/148 [==============================] - ETA: 0s - loss: 0.6376 - accuracy: 0.7574\n",
            "Epoch 6: ReduceLROnPlateau reducing learning rate to 1e-06.\n",
            "148/148 [==============================] - 61s 411ms/step - loss: 0.6376 - accuracy: 0.7574 - val_loss: 1.3932 - val_accuracy: 0.6416 - lr: 1.0000e-06\n",
            "Epoch 7/50\n",
            "148/148 [==============================] - 61s 414ms/step - loss: 0.6304 - accuracy: 0.7570 - val_loss: 1.3910 - val_accuracy: 0.6416 - lr: 1.0000e-06\n",
            "Epoch 8/50\n",
            "148/148 [==============================] - 62s 419ms/step - loss: 0.6290 - accuracy: 0.7551 - val_loss: 1.3909 - val_accuracy: 0.6416 - lr: 1.0000e-06\n",
            "Epoch 9/50\n",
            "148/148 [==============================] - 61s 409ms/step - loss: 0.6293 - accuracy: 0.7585 - val_loss: 1.3825 - val_accuracy: 0.6416 - lr: 1.0000e-06\n",
            "Epoch 10/50\n",
            "148/148 [==============================] - 61s 412ms/step - loss: 0.6213 - accuracy: 0.7601 - val_loss: 1.3830 - val_accuracy: 0.6416 - lr: 1.0000e-06\n",
            "Epoch 11/50\n",
            "148/148 [==============================] - 61s 412ms/step - loss: 0.6123 - accuracy: 0.7570 - val_loss: 1.3894 - val_accuracy: 0.6416 - lr: 1.0000e-06\n",
            "Epoch 12/50\n",
            "148/148 [==============================] - 61s 412ms/step - loss: 0.6094 - accuracy: 0.7633 - val_loss: 1.3970 - val_accuracy: 0.6416 - lr: 1.0000e-06\n",
            "Epoch 13/50\n",
            "148/148 [==============================] - 62s 422ms/step - loss: 0.6235 - accuracy: 0.7597 - val_loss: 1.3977 - val_accuracy: 0.6416 - lr: 1.0000e-06\n",
            "Epoch 14/50\n",
            "148/148 [==============================] - 61s 412ms/step - loss: 0.6312 - accuracy: 0.7595 - val_loss: 1.3862 - val_accuracy: 0.6416 - lr: 1.0000e-06\n",
            "Epoch 15/50\n",
            "148/148 [==============================] - 61s 412ms/step - loss: 0.6100 - accuracy: 0.7597 - val_loss: 1.3861 - val_accuracy: 0.6416 - lr: 1.0000e-06\n",
            "Epoch 16/50\n",
            "148/148 [==============================] - 61s 414ms/step - loss: 0.6134 - accuracy: 0.7606 - val_loss: 1.3853 - val_accuracy: 0.6416 - lr: 1.0000e-06\n",
            "Epoch 17/50\n",
            "148/148 [==============================] - 61s 414ms/step - loss: 0.6113 - accuracy: 0.7616 - val_loss: 1.3863 - val_accuracy: 0.6416 - lr: 1.0000e-06\n",
            "Epoch 18/50\n",
            "148/148 [==============================] - 63s 424ms/step - loss: 0.6229 - accuracy: 0.7589 - val_loss: 1.3934 - val_accuracy: 0.6416 - lr: 1.0000e-06\n",
            "Epoch 19/50\n",
            "148/148 [==============================] - 64s 429ms/step - loss: 0.6333 - accuracy: 0.7620 - val_loss: 1.3926 - val_accuracy: 0.6416 - lr: 1.0000e-06\n",
            "Epoch 20/50\n",
            "148/148 [==============================] - 62s 418ms/step - loss: 0.6149 - accuracy: 0.7642 - val_loss: 1.3849 - val_accuracy: 0.6416 - lr: 1.0000e-06\n",
            "Epoch 21/50\n",
            "148/148 [==============================] - 62s 418ms/step - loss: 0.6138 - accuracy: 0.7604 - val_loss: 1.3858 - val_accuracy: 0.6416 - lr: 1.0000e-06\n",
            "Epoch 22/50\n",
            "148/148 [==============================] - 62s 420ms/step - loss: 0.6144 - accuracy: 0.7608 - val_loss: 1.3776 - val_accuracy: 0.6416 - lr: 1.0000e-06\n",
            "Epoch 23/50\n",
            "148/148 [==============================] - 62s 418ms/step - loss: 0.6030 - accuracy: 0.7608 - val_loss: 1.3746 - val_accuracy: 0.6416 - lr: 1.0000e-06\n",
            "Epoch 24/50\n",
            "148/148 [==============================] - 61s 412ms/step - loss: 0.6078 - accuracy: 0.7593 - val_loss: 1.3734 - val_accuracy: 0.6416 - lr: 1.0000e-06\n",
            "Epoch 25/50\n",
            "148/148 [==============================] - 61s 412ms/step - loss: 0.6176 - accuracy: 0.7610 - val_loss: 1.3737 - val_accuracy: 0.6416 - lr: 1.0000e-06\n",
            "Epoch 26/50\n",
            "148/148 [==============================] - 61s 411ms/step - loss: 0.6149 - accuracy: 0.7620 - val_loss: 1.3747 - val_accuracy: 0.6416 - lr: 1.0000e-06\n",
            "Epoch 27/50\n",
            "148/148 [==============================] - 63s 423ms/step - loss: 0.6177 - accuracy: 0.7608 - val_loss: 1.3761 - val_accuracy: 0.6407 - lr: 1.0000e-06\n",
            "Epoch 28/50\n",
            "148/148 [==============================] - 62s 420ms/step - loss: 0.6117 - accuracy: 0.7616 - val_loss: 1.3765 - val_accuracy: 0.6407 - lr: 1.0000e-06\n",
            "Epoch 29/50\n",
            "148/148 [==============================] - 61s 413ms/step - loss: 0.6123 - accuracy: 0.7633 - val_loss: 1.3896 - val_accuracy: 0.6407 - lr: 1.0000e-06\n",
            "Epoch 30/50\n",
            "148/148 [==============================] - 61s 411ms/step - loss: 0.6121 - accuracy: 0.7599 - val_loss: 1.3896 - val_accuracy: 0.6407 - lr: 1.0000e-06\n",
            "Epoch 31/50\n",
            "148/148 [==============================] - 61s 410ms/step - loss: 0.6142 - accuracy: 0.7654 - val_loss: 1.3643 - val_accuracy: 0.6407 - lr: 1.0000e-06\n",
            "Epoch 32/50\n",
            "148/148 [==============================] - 61s 414ms/step - loss: 0.5999 - accuracy: 0.7644 - val_loss: 1.3727 - val_accuracy: 0.6407 - lr: 1.0000e-06\n",
            "Epoch 33/50\n",
            "148/148 [==============================] - 61s 414ms/step - loss: 0.5984 - accuracy: 0.7629 - val_loss: 1.3732 - val_accuracy: 0.6407 - lr: 1.0000e-06\n",
            "Epoch 34/50\n",
            "148/148 [==============================] - 62s 418ms/step - loss: 0.6066 - accuracy: 0.7648 - val_loss: 1.3809 - val_accuracy: 0.6407 - lr: 1.0000e-06\n",
            "Epoch 35/50\n",
            "148/148 [==============================] - 62s 419ms/step - loss: 0.6113 - accuracy: 0.7610 - val_loss: 1.3810 - val_accuracy: 0.6407 - lr: 1.0000e-06\n",
            "Epoch 36/50\n",
            "148/148 [==============================] - 62s 418ms/step - loss: 0.5957 - accuracy: 0.7673 - val_loss: 1.3817 - val_accuracy: 0.6407 - lr: 1.0000e-06\n",
            "Epoch 37/50\n",
            "148/148 [==============================] - 61s 414ms/step - loss: 0.6051 - accuracy: 0.7637 - val_loss: 1.3966 - val_accuracy: 0.6407 - lr: 1.0000e-06\n",
            "Epoch 38/50\n",
            "148/148 [==============================] - 62s 418ms/step - loss: 0.6177 - accuracy: 0.7658 - val_loss: 1.3717 - val_accuracy: 0.6407 - lr: 1.0000e-06\n",
            "Epoch 39/50\n",
            "148/148 [==============================] - 62s 416ms/step - loss: 0.6037 - accuracy: 0.7633 - val_loss: 1.3704 - val_accuracy: 0.6407 - lr: 1.0000e-06\n",
            "Epoch 40/50\n",
            "148/148 [==============================] - 61s 413ms/step - loss: 0.5913 - accuracy: 0.7629 - val_loss: 1.3714 - val_accuracy: 0.6407 - lr: 1.0000e-06\n",
            "Epoch 41/50\n",
            "148/148 [==============================] - 61s 413ms/step - loss: 0.5959 - accuracy: 0.7637 - val_loss: 1.3779 - val_accuracy: 0.6407 - lr: 1.0000e-06\n",
            "Epoch 42/50\n",
            "148/148 [==============================] - 61s 412ms/step - loss: 0.5933 - accuracy: 0.7654 - val_loss: 1.3780 - val_accuracy: 0.6407 - lr: 1.0000e-06\n",
            "Epoch 43/50\n",
            "148/148 [==============================] - 61s 414ms/step - loss: 0.5847 - accuracy: 0.7654 - val_loss: 1.3783 - val_accuracy: 0.6399 - lr: 1.0000e-06\n",
            "Epoch 44/50\n",
            "148/148 [==============================] - 61s 412ms/step - loss: 0.6017 - accuracy: 0.7637 - val_loss: 1.3681 - val_accuracy: 0.6391 - lr: 1.0000e-06\n",
            "Epoch 45/50\n",
            "148/148 [==============================] - 61s 415ms/step - loss: 0.5994 - accuracy: 0.7656 - val_loss: 1.3685 - val_accuracy: 0.6391 - lr: 1.0000e-06\n",
            "Epoch 46/50\n",
            "148/148 [==============================] - 61s 413ms/step - loss: 0.6004 - accuracy: 0.7644 - val_loss: 1.3690 - val_accuracy: 0.6391 - lr: 1.0000e-06\n",
            "Epoch 47/50\n",
            "148/148 [==============================] - 63s 423ms/step - loss: 0.5997 - accuracy: 0.7667 - val_loss: 1.3697 - val_accuracy: 0.6391 - lr: 1.0000e-06\n",
            "Epoch 48/50\n",
            " 15/148 [==>...........................] - ETA: 54s - loss: 0.6328 - accuracy: 0.7563"
          ]
        }
      ],
      "source": [
        "learning_rate_reduction = ReduceLROnPlateau(monitor='val_accuracy',\n",
        "                                                    patience = 1,\n",
        "                                                    verbose=1,\n",
        "                                                    factor=0.1,\n",
        "                                                    min_lr=0.000001)\n",
        "atae_lstm_model.compile(loss='sparse_categorical_crossentropy', metrics=['accuracy'], optimizer='adam')\n",
        "atae_lstm_model .fit(x = train_data, y = y_train,validation_data = (test_data, y_test), batch_size=32, epochs=50, callbacks = [learning_rate_reduction])\n"
      ]
    },
    {
      "cell_type": "markdown",
      "metadata": {
        "id": "hapIIdWT0JMI"
      },
      "source": [
        "Model Evaluation¶\n"
      ]
    },
    {
      "cell_type": "code",
      "execution_count": null,
      "metadata": {
        "id": "h_B3o9nq0fR5"
      },
      "outputs": [],
      "source": [
        "print(\"Evaluate on test data\")\n",
        "results = atae_lstm_model.evaluate(x = test_data , y = y_test )\n",
        "print(\"test loss, test acc:\", results)\n",
        "print(\"Accuracy of the model is - \" , results[1]*100 , \"%\")"
      ]
    },
    {
      "cell_type": "markdown",
      "metadata": {
        "id": "9aOaOi6o8cM9"
      },
      "source": [
        "Second Approach :\n",
        "In this part of code, We are going to use the AspectCategory as a one hot_encoded output, the input of the model would the sentence and the output would be the probability for each aspect Category."
      ]
    },
    {
      "cell_type": "code",
      "execution_count": null,
      "metadata": {
        "id": "YJAQMYOP73Cy"
      },
      "outputs": [],
      "source": [
        "from collections import Counter\n",
        "import time \n",
        "import xml.etree.ElementTree as ET\n",
        "import pandas as pd\n",
        "import numpy as np\n",
        "file_path = '/content/GoogleDrive/MyDrive/Restaurants_Train 2.xml'\n"
      ]
    },
    {
      "cell_type": "code",
      "execution_count": null,
      "metadata": {
        "id": "A2CwbVLI8xWX"
      },
      "outputs": [],
      "source": [
        "import xml.etree.ElementTree as ET\n"
      ]
    },
    {
      "cell_type": "code",
      "execution_count": null,
      "metadata": {
        "id": "NObP7A3J807l"
      },
      "outputs": [],
      "source": [
        "tree = ET.parse(file_path)\n",
        "root = tree.getroot()\n"
      ]
    },
    {
      "cell_type": "code",
      "execution_count": null,
      "metadata": {
        "id": "qX7rFUkE87a5"
      },
      "outputs": [],
      "source": [
        "tags_list = [elem.tag for elem in root.iter()]\n",
        "len(tags_list)\n"
      ]
    },
    {
      "cell_type": "code",
      "execution_count": null,
      "metadata": {
        "id": "xGELgz_H9A28"
      },
      "outputs": [],
      "source": [
        "aspect_categories = []\n",
        "text = []\n",
        "dfcols = ['Sentence', 'Aspect_Category', 'polarity' ]\n",
        "for sentence in root.iter(\"sentences\"):\n",
        "    for aspect_category in sentence.iter(\"aspectCategory\"):\n",
        "            #print(type(abstract.text))\n",
        "        aspect_categories.append(aspect_category.attrib)\n",
        "    for txt in sentence.iter(\"text\"):\n",
        "        #print(type(abstract.text))\n",
        "        text.append(txt.text) \n"
      ]
    },
    {
      "cell_type": "code",
      "execution_count": null,
      "metadata": {
        "id": "ta7Aoe8z9ESu"
      },
      "outputs": [],
      "source": [
        "aspect_categories[0]['category']\n"
      ]
    },
    {
      "cell_type": "code",
      "execution_count": null,
      "metadata": {
        "id": "hNr-NB3Q9JBQ"
      },
      "outputs": [],
      "source": [
        "ss = [pip['category'] for pip in aspect_categories]\n",
        "set(ss)"
      ]
    },
    {
      "cell_type": "code",
      "execution_count": null,
      "metadata": {
        "id": "-SFUlpwr9O2d"
      },
      "outputs": [],
      "source": [
        "aspect_categories = []\n",
        "text = []\n",
        "dfcols = ['Sentence', 'Aspect_Category', 'polarity' ]\n",
        "for sentence in root.iter(\"sentences\"):\n",
        "    for aspect in sentence.iter(\"aspectCategories\"):\n",
        "        aspects = []\n",
        "        for aspect_category in aspect.iter(\"aspectCategory\"):\n",
        "            #print(type(abstract.text))\n",
        "            aspects.append(aspect_category.attrib)\n",
        "        aspect_categories.append(aspects)\n",
        "    for txt in sentence.iter(\"text\"):\n",
        "        #print(type(abstract.text))\n",
        "        text.append(txt.text) \n",
        "listt = []\n",
        "category_list = []\n",
        "polarity_list = []\n",
        "for aspects in aspect_categories: \n",
        "    listt = []\n",
        "    category_list.append(listt)\n",
        "    for aspect in aspects: \n",
        "        listt.append(aspect['category'])\n",
        "        \n",
        "for polarities in aspect_categories: \n",
        "    listt = []\n",
        "    polarity_list.append(listt)\n",
        "    for aspect in polarities: \n",
        "        listt.append(aspect['polarity'])\n",
        "        \n",
        "dataframe_list = list(zip(text,category_list,polarity_list))\n",
        "df_xml = pd.DataFrame(dataframe_list,columns=dfcols)\n",
        "# df_xml['Diseases']\n",
        "# countt.append(2)\n",
        "#print(NameOfSubstance.text)\n",
        "#./PubmedArticleSet/PubmedArticle/MeshHeadingList/MeshHeading/DescriptorName\n"
      ]
    },
    {
      "cell_type": "code",
      "execution_count": null,
      "metadata": {
        "id": "1EgYLiJF9UQ3"
      },
      "outputs": [],
      "source": [
        "df_xml['hot_enocded'] = pd.NaT\n"
      ]
    },
    {
      "cell_type": "code",
      "execution_count": null,
      "metadata": {
        "id": "mauCeVHQ9XLH"
      },
      "outputs": [],
      "source": [
        "df_xml['hot_enocded'] = df_xml['hot_enocded'].astype('object')\n",
        "for i in np.arange(3041):\n",
        "    df_xml.at[i, 'hot_enocded'] =  [3,3,3,3,3]\n"
      ]
    },
    {
      "cell_type": "code",
      "execution_count": null,
      "metadata": {
        "id": "slXg1ygK9bJf"
      },
      "outputs": [],
      "source": [
        "df_xml\n"
      ]
    },
    {
      "cell_type": "code",
      "execution_count": null,
      "metadata": {
        "id": "7x78sfuJ9fqy"
      },
      "outputs": [],
      "source": [
        "from wordcloud import WordCloud \n",
        "wordcloud2 = WordCloud().generate(' '.join(df_xml['Sentence'])),"
      ]
    },
    {
      "cell_type": "code",
      "execution_count": null,
      "metadata": {
        "id": "wofbTvxf9i1F"
      },
      "outputs": [],
      "source": [
        "wordcloud2 = WordCloud().generate(' '.join(df_xml['Sentence'])),"
      ]
    },
    {
      "cell_type": "code",
      "execution_count": null,
      "metadata": {
        "id": "AaSImjoR9mD5"
      },
      "outputs": [],
      "source": [
        "text3 = ' '.join(df_xml['Sentence'])\n",
        "wordcloud2 = WordCloud().generate(text3)\n",
        "# Generate plot\n",
        "plt.imshow(wordcloud2)\n",
        "plt.axis(\"off\")\n",
        "plt.show()"
      ]
    },
    {
      "cell_type": "markdown",
      "metadata": {
        "id": "OkimBYSJ-cbM"
      },
      "source": [
        "data preparation\n",
        "the Idea here is to create an output the contains all the aspects and their polarities, for example if the aspect concerned is in the sentence, the model output needs to be 1 ( if the polarity is positive) 0 if the polarity is negative and 2 if the sentence doesn't contain the aspect."
      ]
    },
    {
      "cell_type": "code",
      "execution_count": null,
      "metadata": {
        "id": "MKjISZXm-iKO"
      },
      "outputs": [],
      "source": [
        "#{'ambience', 'anecdotes/miscellaneous', 'food', 'price', 'service'}\n",
        "\n",
        "#initialize the target aspects as absents in the sentence, and whenever we find an aspect in the data we'll replace it by it's polarity\n",
        "aspects_terget_data = [2,2,2,2,2]\n",
        "for i in np.arange(3041) : \n",
        "    for aspect in np.arange(len(df_xml.Aspect_Category[i])):\n",
        "        if 'service' in df_xml.Aspect_Category[i]:\n",
        "            if df_xml.polarity[i][df_xml.Aspect_Category[i].index('service')] == 'positive' : \n",
        "                df_xml.hot_enocded[i][0] = 1\n",
        "            if df_xml.polarity[i][df_xml.Aspect_Category[i].index('service')] == 'negative' : \n",
        "                df_xml.hot_enocded[i][0] = 0\n",
        "            if df_xml.polarity[i][df_xml.Aspect_Category[i].index('service')] == 'neutral' : \n",
        "                df_xml.hot_enocded[i][0] = 2\n",
        "        if 'anecdotes/miscellaneous' in df_xml.Aspect_Category[i]:\n",
        "            if df_xml.polarity[i][df_xml.Aspect_Category[i].index('anecdotes/miscellaneous')] == 'positive' : \n",
        "                df_xml.hot_enocded[i][1] = 1\n",
        "            if df_xml.polarity[i][df_xml.Aspect_Category[i].index('anecdotes/miscellaneous')] == 'negative' : \n",
        "                df_xml.hot_enocded[i][1] = 0\n",
        "            if df_xml.polarity[i][df_xml.Aspect_Category[i].index('anecdotes/miscellaneous')] == 'neutral' : \n",
        "                df_xml.hot_enocded[i][1] = 2\n",
        "        if 'food' in df_xml.Aspect_Category[i]:\n",
        "            if df_xml.polarity[i][df_xml.Aspect_Category[i].index('food')] == 'positive' : \n",
        "                df_xml.hot_enocded[i][2] = 1\n",
        "            if df_xml.polarity[i][df_xml.Aspect_Category[i].index('food')] == 'negative' : \n",
        "                df_xml.hot_enocded[i][2] = 0\n",
        "            if df_xml.polarity[i][df_xml.Aspect_Category[i].index('food')] == 'neutral' : \n",
        "                df_xml.hot_enocded[i][2] = 2\n",
        "        if 'price' in df_xml.Aspect_Category[i]:\n",
        "            if df_xml.polarity[i][df_xml.Aspect_Category[i].index('price')] == 'positive' : \n",
        "                df_xml.hot_enocded[i][3] = 1\n",
        "            if df_xml.polarity[i][df_xml.Aspect_Category[i].index('price')] == 'negative' : \n",
        "                df_xml.hot_enocded[i][3] = 0\n",
        "            if df_xml.polarity[i][df_xml.Aspect_Category[i].index('price')] == 'neutral' : \n",
        "                df_xml.hot_enocded[i][3] = 2\n",
        "        if 'ambience' in df_xml.Aspect_Category[i]:\n",
        "            if df_xml.polarity[i][df_xml.Aspect_Category[i].index('ambience')] == 'positive' : \n",
        "                df_xml.hot_enocded[i][4] = 1\n",
        "            if df_xml.polarity[i][df_xml.Aspect_Category[i].index('ambience')] == 'negative' : \n",
        "                df_xml.hot_enocded[i][4] = 0\n",
        "            if df_xml.polarity[i][df_xml.Aspect_Category[i].index('ambience')] == 'neutral' : \n",
        "                df_xml.hot_enocded[i][4] = 2\n",
        "\t"
      ]
    },
    {
      "cell_type": "code",
      "execution_count": null,
      "metadata": {
        "id": "KeIQRGYy9-tf"
      },
      "outputs": [],
      "source": [
        "df_xml\n"
      ]
    },
    {
      "cell_type": "markdown",
      "metadata": {
        "id": "hmJ5fd3I-r7R"
      },
      "source": [
        "Attention-based LSTM with Aspect Embedding (ATAE-LSTM)¶\n"
      ]
    },
    {
      "cell_type": "code",
      "execution_count": null,
      "metadata": {
        "id": "QjqM1uQy-9qF"
      },
      "outputs": [],
      "source": [
        "# attention-based lstm with aspect embedding\n",
        "def atae_lstm(lstm_units = 128):\n",
        "    input_text = Input(shape=(Max_Len,))\n",
        "    input_aspect = Input(shape=(1,),)\n",
        "    \n",
        "    word_embedding = Embedding(NUM_WORDS, EMBEDDING_SIZE, input_length=Max_Len)\n",
        "    text_embed = SpatialDropout1D(0.2)(word_embedding(input_text))\n",
        "\n",
        "    asp_embedding = Embedding(NUM_WORDS, EMBEDDING_SIZE, input_length=Max_Len)\n",
        "\n",
        "    aspect_embed = asp_embedding(input_aspect)\n",
        "    aspect_embed = Flatten()(aspect_embed)  # reshape to 2d\n",
        "    repeat_aspect = RepeatVector(Max_Len)(aspect_embed)  # repeat aspect for every word in sequence\n",
        "\n",
        "    input_concat = concatenate([text_embed, repeat_aspect], axis=-1)\n",
        "    print(input_concat.shape)\n",
        "    hidden_vecs, state_h, _ = LSTM(lstm_units, return_sequences=True, return_state=True)(input_concat)\n",
        "    concat = concatenate([hidden_vecs, repeat_aspect], axis=-1)\n",
        "\n",
        "    # apply attention mechanism\n",
        "    attend_weight = Attention()(concat)\n",
        "    attend_weight_expand = Lambda(lambda x: K.expand_dims(x))(attend_weight)\n",
        "    attend_hidden = multiply([hidden_vecs, attend_weight_expand])\n",
        "    attend_hidden = Lambda(lambda x: K.sum(x, axis=1))(attend_hidden)\n",
        "\n",
        "    attend_hidden_dense = Dense(lstm_units)(attend_hidden)\n",
        "    last_hidden_dense = Dense(lstm_units)(state_h)\n",
        "    final_output = Activation('tanh')(add([attend_hidden_dense, last_hidden_dense]))\n",
        "\n",
        "    return Model([input_text, input_aspect], final_output)"
      ]
    },
    {
      "cell_type": "code",
      "execution_count": null,
      "metadata": {
        "id": "gd_ADUsY-_Pp"
      },
      "outputs": [],
      "source": [
        "atae_lstm_model =  atae_lstm()\n",
        "atae_lstm_model.summary()"
      ]
    },
    {
      "cell_type": "code",
      "execution_count": null,
      "metadata": {
        "colab": {
          "base_uri": "https://localhost:8080/"
        },
        "id": "l6uyf85m_GFd",
        "outputId": "cf7148a0-201c-41f5-e9ee-1113e19b4c5a"
      },
      "outputs": [
        {
          "output_type": "stream",
          "name": "stdout",
          "text": [
            "Epoch 1/50\n",
            "148/148 [==============================] - 64s 418ms/step - loss: 1.1219 - accuracy: 0.5154 - val_loss: 1.0393 - val_accuracy: 0.4455 - lr: 0.0010\n",
            "Epoch 2/50\n",
            "148/148 [==============================] - 61s 412ms/step - loss: 0.9053 - accuracy: 0.7075 - val_loss: 0.8978 - val_accuracy: 0.6855 - lr: 0.0010\n",
            "Epoch 3/50\n",
            "148/148 [==============================] - 61s 413ms/step - loss: 0.6951 - accuracy: 0.8104 - val_loss: 1.8548 - val_accuracy: 0.6974 - lr: 0.0010\n",
            "Epoch 4/50\n",
            "148/148 [==============================] - ETA: 0s - loss: 0.5773 - accuracy: 0.8599\n",
            "Epoch 4: ReduceLROnPlateau reducing learning rate to 0.00010000000474974513.\n",
            "148/148 [==============================] - 62s 417ms/step - loss: 0.5773 - accuracy: 0.8599 - val_loss: 1.4565 - val_accuracy: 0.6720 - lr: 0.0010\n",
            "Epoch 5/50\n",
            "148/148 [==============================] - ETA: 0s - loss: 0.4502 - accuracy: 0.8912\n",
            "Epoch 5: ReduceLROnPlateau reducing learning rate to 1.0000000474974514e-05.\n",
            "148/148 [==============================] - 61s 415ms/step - loss: 0.4502 - accuracy: 0.8912 - val_loss: 1.5129 - val_accuracy: 0.6932 - lr: 1.0000e-04\n",
            "Epoch 6/50\n",
            "148/148 [==============================] - ETA: 0s - loss: 0.4006 - accuracy: 0.9079\n",
            "Epoch 6: ReduceLROnPlateau reducing learning rate to 1.0000000656873453e-06.\n",
            "148/148 [==============================] - 62s 417ms/step - loss: 0.4006 - accuracy: 0.9079 - val_loss: 1.5706 - val_accuracy: 0.6932 - lr: 1.0000e-05\n",
            "Epoch 7/50\n",
            "148/148 [==============================] - ETA: 0s - loss: 0.3840 - accuracy: 0.9089\n",
            "Epoch 7: ReduceLROnPlateau reducing learning rate to 1e-06.\n",
            "148/148 [==============================] - 62s 417ms/step - loss: 0.3840 - accuracy: 0.9089 - val_loss: 1.5782 - val_accuracy: 0.6932 - lr: 1.0000e-06\n",
            "Epoch 8/50\n",
            "148/148 [==============================] - 61s 414ms/step - loss: 0.3895 - accuracy: 0.9083 - val_loss: 1.5791 - val_accuracy: 0.6948 - lr: 1.0000e-06\n",
            "Epoch 9/50\n",
            "148/148 [==============================] - 61s 413ms/step - loss: 0.3914 - accuracy: 0.9077 - val_loss: 1.5803 - val_accuracy: 0.6923 - lr: 1.0000e-06\n",
            "Epoch 10/50\n",
            "148/148 [==============================] - 61s 411ms/step - loss: 0.3844 - accuracy: 0.9066 - val_loss: 1.5882 - val_accuracy: 0.6923 - lr: 1.0000e-06\n",
            "Epoch 11/50\n",
            "148/148 [==============================] - 61s 413ms/step - loss: 0.3897 - accuracy: 0.9081 - val_loss: 1.5890 - val_accuracy: 0.6923 - lr: 1.0000e-06\n",
            "Epoch 12/50\n",
            "148/148 [==============================] - 61s 411ms/step - loss: 0.3863 - accuracy: 0.9081 - val_loss: 1.5901 - val_accuracy: 0.6932 - lr: 1.0000e-06\n",
            "Epoch 13/50\n",
            "148/148 [==============================] - 61s 412ms/step - loss: 0.3862 - accuracy: 0.9064 - val_loss: 1.5916 - val_accuracy: 0.6932 - lr: 1.0000e-06\n",
            "Epoch 14/50\n",
            "148/148 [==============================] - 61s 414ms/step - loss: 0.3890 - accuracy: 0.9081 - val_loss: 1.6000 - val_accuracy: 0.6932 - lr: 1.0000e-06\n",
            "Epoch 15/50\n",
            "148/148 [==============================] - 62s 416ms/step - loss: 0.3908 - accuracy: 0.9072 - val_loss: 1.6019 - val_accuracy: 0.6940 - lr: 1.0000e-06\n",
            "Epoch 16/50\n",
            "148/148 [==============================] - 61s 412ms/step - loss: 0.3854 - accuracy: 0.9072 - val_loss: 1.6053 - val_accuracy: 0.6940 - lr: 1.0000e-06\n",
            "Epoch 17/50\n",
            "148/148 [==============================] - 62s 419ms/step - loss: 0.3903 - accuracy: 0.9077 - val_loss: 1.6207 - val_accuracy: 0.6932 - lr: 1.0000e-06\n",
            "Epoch 18/50\n",
            "148/148 [==============================] - 61s 413ms/step - loss: 0.3861 - accuracy: 0.9093 - val_loss: 1.6217 - val_accuracy: 0.6932 - lr: 1.0000e-06\n",
            "Epoch 19/50\n",
            "148/148 [==============================] - 61s 413ms/step - loss: 0.3847 - accuracy: 0.9096 - val_loss: 1.6237 - val_accuracy: 0.6923 - lr: 1.0000e-06\n",
            "Epoch 20/50\n",
            "148/148 [==============================] - 61s 411ms/step - loss: 0.3919 - accuracy: 0.9064 - val_loss: 1.6272 - val_accuracy: 0.6932 - lr: 1.0000e-06\n",
            "Epoch 21/50\n",
            "148/148 [==============================] - 61s 414ms/step - loss: 0.3861 - accuracy: 0.9089 - val_loss: 1.6431 - val_accuracy: 0.6932 - lr: 1.0000e-06\n",
            "Epoch 22/50\n",
            "148/148 [==============================] - 61s 415ms/step - loss: 0.3832 - accuracy: 0.9079 - val_loss: 1.6528 - val_accuracy: 0.6932 - lr: 1.0000e-06\n",
            "Epoch 23/50\n",
            "148/148 [==============================] - 61s 415ms/step - loss: 0.3808 - accuracy: 0.9081 - val_loss: 1.6690 - val_accuracy: 0.6932 - lr: 1.0000e-06\n",
            "Epoch 24/50\n",
            "148/148 [==============================] - 61s 411ms/step - loss: 0.3792 - accuracy: 0.9093 - val_loss: 1.6767 - val_accuracy: 0.6906 - lr: 1.0000e-06\n",
            "Epoch 25/50\n",
            "148/148 [==============================] - 61s 411ms/step - loss: 0.3851 - accuracy: 0.9093 - val_loss: 1.6770 - val_accuracy: 0.6932 - lr: 1.0000e-06\n",
            "Epoch 26/50\n",
            "148/148 [==============================] - 61s 411ms/step - loss: 0.3778 - accuracy: 0.9089 - val_loss: 1.6775 - val_accuracy: 0.6923 - lr: 1.0000e-06\n",
            "Epoch 27/50\n",
            "148/148 [==============================] - 62s 419ms/step - loss: 0.3761 - accuracy: 0.9085 - val_loss: 1.6783 - val_accuracy: 0.6923 - lr: 1.0000e-06\n",
            "Epoch 28/50\n",
            "148/148 [==============================] - 61s 413ms/step - loss: 0.3802 - accuracy: 0.9102 - val_loss: 1.6782 - val_accuracy: 0.6915 - lr: 1.0000e-06\n",
            "Epoch 29/50\n",
            "148/148 [==============================] - 61s 413ms/step - loss: 0.3795 - accuracy: 0.9093 - val_loss: 1.6787 - val_accuracy: 0.6915 - lr: 1.0000e-06\n",
            "Epoch 30/50\n",
            "148/148 [==============================] - 62s 416ms/step - loss: 0.3760 - accuracy: 0.9089 - val_loss: 1.6797 - val_accuracy: 0.6915 - lr: 1.0000e-06\n",
            "Epoch 31/50\n",
            "148/148 [==============================] - 61s 415ms/step - loss: 0.3808 - accuracy: 0.9068 - val_loss: 1.6810 - val_accuracy: 0.6915 - lr: 1.0000e-06\n",
            "Epoch 32/50\n",
            "148/148 [==============================] - 61s 414ms/step - loss: 0.3770 - accuracy: 0.9089 - val_loss: 1.6888 - val_accuracy: 0.6915 - lr: 1.0000e-06\n",
            "Epoch 33/50\n",
            "148/148 [==============================] - 62s 416ms/step - loss: 0.3786 - accuracy: 0.9077 - val_loss: 1.6895 - val_accuracy: 0.6923 - lr: 1.0000e-06\n",
            "Epoch 34/50\n",
            "148/148 [==============================] - 61s 414ms/step - loss: 0.3846 - accuracy: 0.9108 - val_loss: 1.6907 - val_accuracy: 0.6923 - lr: 1.0000e-06\n",
            "Epoch 35/50\n",
            "148/148 [==============================] - 61s 414ms/step - loss: 0.3701 - accuracy: 0.9102 - val_loss: 1.6918 - val_accuracy: 0.6932 - lr: 1.0000e-06\n",
            "Epoch 36/50\n",
            "148/148 [==============================] - 61s 413ms/step - loss: 0.3780 - accuracy: 0.9085 - val_loss: 1.6933 - val_accuracy: 0.6940 - lr: 1.0000e-06\n",
            "Epoch 37/50\n",
            "148/148 [==============================] - 63s 422ms/step - loss: 0.3703 - accuracy: 0.9089 - val_loss: 1.7008 - val_accuracy: 0.6940 - lr: 1.0000e-06\n",
            "Epoch 38/50\n",
            "148/148 [==============================] - 62s 419ms/step - loss: 0.3692 - accuracy: 0.9115 - val_loss: 1.7020 - val_accuracy: 0.6940 - lr: 1.0000e-06\n",
            "Epoch 39/50\n",
            "148/148 [==============================] - 62s 420ms/step - loss: 0.3774 - accuracy: 0.9104 - val_loss: 1.7040 - val_accuracy: 0.6940 - lr: 1.0000e-06\n",
            "Epoch 40/50\n",
            "148/148 [==============================] - 61s 414ms/step - loss: 0.3725 - accuracy: 0.9110 - val_loss: 1.7130 - val_accuracy: 0.6940 - lr: 1.0000e-06\n",
            "Epoch 41/50\n",
            "148/148 [==============================] - 62s 417ms/step - loss: 0.3707 - accuracy: 0.9077 - val_loss: 1.7239 - val_accuracy: 0.6940 - lr: 1.0000e-06\n",
            "Epoch 42/50\n",
            "148/148 [==============================] - 62s 416ms/step - loss: 0.3731 - accuracy: 0.9096 - val_loss: 1.7294 - val_accuracy: 0.6940 - lr: 1.0000e-06\n",
            "Epoch 43/50\n",
            "148/148 [==============================] - 62s 419ms/step - loss: 0.3655 - accuracy: 0.9085 - val_loss: 1.7303 - val_accuracy: 0.6940 - lr: 1.0000e-06\n",
            "Epoch 44/50\n",
            "148/148 [==============================] - 61s 414ms/step - loss: 0.3652 - accuracy: 0.9087 - val_loss: 1.7315 - val_accuracy: 0.6940 - lr: 1.0000e-06\n",
            "Epoch 45/50\n",
            "148/148 [==============================] - 61s 415ms/step - loss: 0.3731 - accuracy: 0.9096 - val_loss: 1.7327 - val_accuracy: 0.6940 - lr: 1.0000e-06\n",
            "Epoch 46/50\n",
            "148/148 [==============================] - 62s 419ms/step - loss: 0.3617 - accuracy: 0.9079 - val_loss: 1.7349 - val_accuracy: 0.6940 - lr: 1.0000e-06\n",
            "Epoch 47/50\n",
            "128/148 [========================>.....] - ETA: 8s - loss: 0.3639 - accuracy: 0.9089"
          ]
        }
      ],
      "source": [
        "learning_rate_reduction = ReduceLROnPlateau(monitor='val_accuracy',\n",
        "                                                    patience = 1,\n",
        "                                                    verbose=1,\n",
        "                                                    factor=0.1,\n",
        "                                                    min_lr=0.000001)\n",
        "atae_lstm_model.compile(loss='sparse_categorical_crossentropy', metrics=['accuracy'], optimizer='adam')\n",
        "atae_lstm_model .fit(x = train_data, y = y_train,validation_data = (test_data, y_test), batch_size=32, epochs=50, callbacks = [learning_rate_reduction])"
      ]
    },
    {
      "cell_type": "code",
      "execution_count": null,
      "metadata": {
        "id": "DVuVBTIT_NMB"
      },
      "outputs": [],
      "source": [
        "print(\"Evaluate on test data\")\n",
        "results = atae_lstm_model.evaluate(x = test_data , y = y_test )\n",
        "print(\"test loss, test acc:\", results)\n",
        "print(\"Accuracy of the model is - \" , results[1]*100 , \"%\")\n"
      ]
    },
    {
      "cell_type": "code",
      "execution_count": null,
      "metadata": {
        "id": "9PPkVmnH_SOt"
      },
      "outputs": [],
      "source": [
        "val_data =   [text_X_test_padded[6].reshape(1,69),aspect_X_test_padded[6].reshape(1,69)]\n",
        "ae_lstm_model.predict(test_data)"
      ]
    },
    {
      "cell_type": "code",
      "execution_count": 82,
      "metadata": {
        "id": "fx9dUQjx_Xu6"
      },
      "outputs": [],
      "source": [
        "# Add attention layer to the deep learning network\n",
        "class attention(Layer):\n",
        "    def __init__(self,**kwargs):\n",
        "        super(attention,self).__init__(**kwargs)\n",
        " \n",
        "    def build(self,input_shape):\n",
        "        self.W=self.add_weight(name='attention_weight', shape=(input_shape[-1],1), \n",
        "                               initializer='random_normal', trainable=True)\n",
        "        self.b=self.add_weight(name='attention_bias', shape=(input_shape[1],1), \n",
        "                               initializer='zeros', trainable=True)        \n",
        "        super(attention, self).build(input_shape)\n",
        " \n",
        "    def call(self,x):\n",
        "        # Alignment scores. Pass them through tanh function\n",
        "        e = K.tanh(K.dot(x,self.W)+self.b)\n",
        "        # Remove dimension of size 1\n",
        "        e = K.squeeze(e, axis=-1)   \n",
        "        # Compute the weights\n",
        "        alpha = K.softmax(e)\n",
        "        # Reshape to tensorFlow format\n",
        "        alpha = K.expand_dims(alpha, axis=-1)\n",
        "        # Compute the context vector\n",
        "        context = x * alpha\n",
        "        context = K.sum(context, axis=1)\n",
        "        return context\n"
      ]
    },
    {
      "cell_type": "markdown",
      "metadata": {
        "id": "gJDC9jt1_eaO"
      },
      "source": [
        "attention-based lstm¶"
      ]
    },
    {
      "cell_type": "code",
      "execution_count": 83,
      "metadata": {
        "id": "-uDLzJwt_j2w"
      },
      "outputs": [],
      "source": [
        "def at_lstm(self):\n",
        "        input_text = Input(shape=(self.max_len,))\n",
        "        input_aspect = Input(shape=(1,),)\n",
        "        asp_embedding = Embedding(input_dim=self.aspect_embeddings.shape[0],\n",
        "                                      output_dim=self.config.aspect_embed_dim,\n",
        "                                      trainable=self.config.aspect_embed_trainable)\n",
        "        aspect_embed = asp_embedding(input_aspect)\n",
        "        aspect_embed = Flatten()(aspect_embed)  # reshape to 2d\n",
        "        repeat_aspect = RepeatVector(self.max_len)(aspect_embed)  # repeat aspect for every word in sequence\n",
        "\n",
        "        hidden_vecs = LSTM(self.config.lstm_units, return_sequences=True)(text_embed)  # hidden vectors output by lstm\n",
        "        concat = concatenate([hidden_vecs, repeat_aspect], axis=-1)  # mask after concatenate will be same as hidden_out's mask\n",
        "\n",
        "        # apply attention mechanism\n",
        "        attend_weight = Attention()(concat)\n",
        "        attend_weight_expand = Lambda(lambda x: K.expand_dims(x))(attend_weight)\n",
        "        attend_hidden = multiply([hidden_vecs, attend_weight_expand])\n",
        "        attend_hidden = Lambda(lambda x: K.sum(x, axis=1))(attend_hidden)\n",
        "        return Model([input_text, input_aspect], attend_hidden)"
      ]
    },
    {
      "cell_type": "markdown",
      "metadata": {
        "id": "d0ARFOyd_pxT"
      },
      "source": [
        "attention-based lstm with aspect embedding¶\n"
      ]
    },
    {
      "cell_type": "code",
      "execution_count": 84,
      "metadata": {
        "id": "aKivoEiN_r7a"
      },
      "outputs": [],
      "source": [
        "# attention-based lstm with aspect embedding\n",
        "def atae_lstm(self):\n",
        "    input_text = Input(shape=(self.max_len,))\n",
        "    input_aspect = Input(shape=(1,), )\n",
        "    asp_embedding = Embedding(input_dim=self.aspect_embeddings.shape[0],\n",
        "                                  output_dim=self.config.aspect_embed_dim,\n",
        "                                  trainable=self.config.aspect_embed_trainable)\n",
        "    aspect_embed = asp_embedding(input_aspect)\n",
        "    aspect_embed = Flatten()(aspect_embed)  # reshape to 2d\n",
        "    repeat_aspect = RepeatVector(self.max_len)(aspect_embed)  # repeat aspect for every word in sequence\n",
        "\n",
        "    input_concat = concatenate([text_embed, repeat_aspect], axis=-1)\n",
        "    hidden_vecs, state_h, _ = LSTM(self.config.lstm_units, return_sequences=True, return_state=True)(input_concat)\n",
        "    concat = concatenate([hidden_vecs, repeat_aspect], axis=-1)\n",
        "\n",
        "    # apply attention mechanism\n",
        "    attend_weight = Attention()(concat)\n",
        "    attend_weight_expand = Lambda(lambda x: K.expand_dims(x))(attend_weight)\n",
        "    attend_hidden = multiply([hidden_vecs, attend_weight_expand])\n",
        "    attend_hidden = Lambda(lambda x: K.sum(x, axis=1))(attend_hidden)\n",
        "\n",
        "    attend_hidden_dense = Dense(self.config.lstm_units)(attend_hidden)\n",
        "    last_hidden_dense = Dense(self.config.lstm_units)(state_h)\n",
        "    final_output = Activation('tanh')(add([attend_hidden_dense, last_hidden_dense]))\n",
        "\n",
        "    return Model([input_text, input_aspect], final_output)\n"
      ]
    }
  ],
  "metadata": {
    "colab": {
      "provenance": [],
      "authorship_tag": "ABX9TyNI3hG9fyn+WypVoz4SBU3+",
      "include_colab_link": true
    },
    "gpuClass": "standard",
    "kernelspec": {
      "display_name": "Python 3",
      "name": "python3"
    },
    "language_info": {
      "name": "python"
    }
  },
  "nbformat": 4,
  "nbformat_minor": 0
}