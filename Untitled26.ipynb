{
  "nbformat": 4,
  "nbformat_minor": 0,
  "metadata": {
    "colab": {
      "provenance": [],
      "authorship_tag": "ABX9TyMNIRyy2KW8m1h/nPP9rV4y",
      "include_colab_link": true
    },
    "kernelspec": {
      "name": "python3",
      "display_name": "Python 3"
    },
    "language_info": {
      "name": "python"
    }
  },
  "cells": [
    {
      "cell_type": "markdown",
      "metadata": {
        "id": "view-in-github",
        "colab_type": "text"
      },
      "source": [
        "<a href=\"https://colab.research.google.com/github/olaronke/COMPUTATION/blob/main/Untitled26.ipynb\" target=\"_parent\"><img src=\"https://colab.research.google.com/assets/colab-badge.svg\" alt=\"Open In Colab\"/></a>"
      ]
    },
    {
      "cell_type": "code",
      "source": [
        " >>> import nltk\n",
        "nltk.download('wordnet')\n",
        "  "
      ],
      "metadata": {
        "colab": {
          "base_uri": "https://localhost:8080/"
        },
        "id": "UgsFQYp3qkQO",
        "outputId": "1b9a6b8f-0c63-49fa-ab5e-2472d08de18f"
      },
      "execution_count": null,
      "outputs": [
        {
          "output_type": "stream",
          "name": "stderr",
          "text": [
            "[nltk_data] Downloading package wordnet to /root/nltk_data...\n",
            "[nltk_data]   Package wordnet is already up-to-date!\n"
          ]
        },
        {
          "output_type": "execute_result",
          "data": {
            "text/plain": [
              "True"
            ]
          },
          "metadata": {},
          "execution_count": 9
        }
      ]
    },
    {
      "cell_type": "code",
      "source": [
        ">>> import nltk\n",
        "nltk.download('omw-1.4')\n"
      ],
      "metadata": {
        "colab": {
          "base_uri": "https://localhost:8080/"
        },
        "id": "JHmuEBuEquiM",
        "outputId": "23c30877-6df5-4b03-aa49-7947f21534ca"
      },
      "execution_count": null,
      "outputs": [
        {
          "output_type": "stream",
          "name": "stderr",
          "text": [
            "[nltk_data] Downloading package omw-1.4 to /root/nltk_data...\n",
            "[nltk_data]   Package omw-1.4 is already up-to-date!\n"
          ]
        },
        {
          "output_type": "execute_result",
          "data": {
            "text/plain": [
              "True"
            ]
          },
          "metadata": {},
          "execution_count": 10
        }
      ]
    },
    {
      "cell_type": "code",
      "execution_count": null,
      "metadata": {
        "colab": {
          "base_uri": "https://localhost:8080/"
        },
        "id": "U06oK9J33Bwt",
        "outputId": "e2da8059-2ea5-4c27-9912-90ec131a3065"
      },
      "outputs": [
        {
          "output_type": "stream",
          "name": "stdout",
          "text": [
            "\n",
            "\n",
            "                              Positive prediction Negative prediction  Tests\n",
            "   ham  = 0   Actual negative          FP=2                TN=188        190\n",
            "   spam = 1   Actual positive          TP=53               FN=6           59\n",
            "\n",
            "\n",
            "              precision    recall  f1-score   support\n",
            "\n",
            "       ham 0       0.97      0.99      0.98       190\n",
            "      spam 1       0.96      0.90      0.93        59\n",
            "\n",
            "    accuracy                           0.97       249\n",
            "   macro avg       0.97      0.94      0.95       249\n",
            "weighted avg       0.97      0.97      0.97       249\n",
            "\n"
          ]
        }
      ],
      "source": [
        "#from get_text import *\n",
        "def get_text_from_txt(file, encode=\"latin-1\"):    \n",
        "    txt = open(file, \"r\", encoding=encode)\n",
        "    text = txt.read()\n",
        "    txt.close()\n",
        "    \n",
        "    return text\n",
        "#from normalize_text import *\n",
        "import nltk\n",
        "from nltk.stem import WordNetLemmatizer\n",
        "        \n",
        "def normalize_text(text):\n",
        "    validCharacters=['á','é','í','ó','ú','ü','a','b','c','d','e','f','g','h','i','j','k','l','m','n','ñ','o','p','q','r','s','t','u','v','w','x','y','z', ' ', '\\n']\n",
        "    \n",
        "    # Pasar a minúsculas\n",
        "    normalizeText=text.lower()\n",
        "    \n",
        "    # Quitar números y caracteres no alfanuméricos\n",
        "    normalizeText=''.join(c for c in normalizeText if c in validCharacters)\n",
        "    \n",
        "    # Lematizar\n",
        "    lemmatizer=WordNetLemmatizer()\n",
        "    result=''\n",
        "    lines=normalizeText.split('\\n')\n",
        "    numberLines=len(lines)\n",
        "    for i in range(numberLines):\n",
        "        for w in lines[i].split():\n",
        "            result+=lemmatizer.lemmatize(w)+' '\n",
        "        if (i < (numberLines-1)):\n",
        "            result+='\\n'\n",
        "    \n",
        "    return result\n",
        "\n",
        "#from save_text import *\n",
        "def save_array_to_txt(file, array):\n",
        "    saveFile=open(file,\"w\")\n",
        "    for item in array:\n",
        "        saveFile.write(str(item)+'\\n')\n",
        "    saveFile.close()\n",
        "\n",
        "#from get_structure import *\n",
        "def get_sentences_tags(text, types):\n",
        "    dictionary=dict()\n",
        "    for line in text.split('\\n'):\n",
        "        items = line.split()\n",
        "        numberItems=len(items)\n",
        "        if(numberItems>=2):\n",
        "            sentence=' '.join(c for c in items[:numberItems-1])\n",
        "            tag=items[numberItems-1]\n",
        "            dictionary[sentence]=types[tag]\n",
        "    return list(dictionary.keys()), list(dictionary.values())\n",
        "\n",
        "from sklearn.feature_extraction.text import CountVectorizer\n",
        "from sklearn.model_selection import train_test_split\n",
        "from sklearn.linear_model import LogisticRegression\n",
        "from sklearn.metrics import confusion_matrix\n",
        "from sklearn.metrics import classification_report\n",
        "import pandas as pd\n",
        "\n",
        "types=Dic={\"ham\":0,\"spam\":1}\n",
        "text=get_text_from_txt('SMS_Spam_Corpus_big.txt')\n",
        "normalizeText=normalize_text(text)\n",
        "sentences,tags=get_sentences_tags(normalizeText,types)\n",
        "\n",
        "tf=CountVectorizer()\n",
        "data=tf.fit_transform(sentences)\n",
        "#print(tf.get_feature_names_out())\n",
        "#print(data.toarray())\n",
        "\n",
        "X_train,X_test,y_train,y_test=train_test_split(data.toarray(),tags,test_size=0.2)\n",
        "\n",
        "#print(X_train,y_train)\n",
        "#print(X_test,y_test)\n",
        "\n",
        "clf=LogisticRegression(random_state=0,max_iter=250).fit(X_train,y_train)\n",
        "y_pred=clf.predict(X_test)\n",
        "#print(y_pred)\n",
        "\n",
        "TN,FP,FN,TP=confusion_matrix(y_test,y_pred).ravel()\n",
        "spam=y_test.count(1)\n",
        "ham=y_test.count(0)\n",
        "\n",
        "confusionMatrix=pd.DataFrame({'': ['ham  = 0   Actual negative','spam = 1   Actual positive'], 'Positive prediction': [\"{:10}\".format('FP='+str(FP)),\"{:10}\".format('TP='+str(TP))], 'Negative prediction': [\"{:10}\".format('TN='+str(TN)),\"{:10}\".format('FN='+str(FN))], 'Tests': [ham,spam]},index=[' ', ' '])\n",
        "print('\\n')\n",
        "print(confusionMatrix)\n",
        "\n",
        "target_names=['ham 0', 'spam 1']\n",
        "print('\\n')\n",
        "print(classification_report(y_test,y_pred,target_names=target_names))\n"
      ]
    }
  ]
}